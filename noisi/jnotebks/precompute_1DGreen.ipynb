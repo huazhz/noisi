{
 "cells": [
  {
   "cell_type": "code",
   "execution_count": 3,
   "metadata": {
    "collapsed": true
   },
   "outputs": [],
   "source": [
    "# Precompute a 1-D Green's function for a homogeneous membrane medium\n",
    "import numpy as np\n",
    "import os\n",
    "import h5py\n",
    "from math import sqrt, pi\n",
    "from scipy.signal import hann\n",
    "from obspy.geodetics import gps2dist_azimuth\n",
    "import matplotlib.pyplot as plt"
   ]
  },
  {
   "cell_type": "code",
   "execution_count": 4,
   "metadata": {
    "collapsed": false
   },
   "outputs": [],
   "source": [
    "# set the parameters\n",
    "output_location = '/Users/lermert/Desktop/Japan/green_1d/wavefield'\n",
    "srcgrid = np.load('/Users/lermert/Desktop/Japan/green_1d/sourcegrid.npy')\n",
    "rec_codes = ['BO.SAG..BHZ','BO.NSK..BHZ','BO.KMT..BHZ','BO.IZH..BHZ']\n",
    "rec_locations = [[36.2553,133.3050],[34.3403,132.0018],[33.6782,135.4899],[34.1359,129.2066]]\n",
    "v_phase = 3000.\n",
    "q = 100.\n",
    "rho = 3300.\n",
    "Fs = 1.0\n",
    "\n",
    "\n",
    "npts = 3600\n",
    "# Apply a freq. domain taper to suppress high and low frequencies.\n",
    "filt = [0.005,0.2]\n",
    "data_quantity = 'VEL'\n",
    "ntraces = len(srcgrid[0])"
   ]
  },
  {
   "cell_type": "code",
   "execution_count": 5,
   "metadata": {
    "collapsed": false
   },
   "outputs": [
    {
     "name": "stdout",
     "output_type": "stream",
     "text": [
      "(3601,)\n"
     ]
    }
   ],
   "source": [
    "freq = np.fft.rfftfreq(2*int(npts),d=1.0/Fs)\n",
    "print freq.shape\n",
    "w = 2 * pi * freq\n",
    "g_fd = np.zeros(freq.shape)\n",
    "def green_membrane(r,plot):\n",
    "    if data_quantity == 'DIS':\n",
    "        fac1 = -1j*1./(rho*v_phase**2*4.)\n",
    "    elif data_quantity == 'VEL':\n",
    "        fac1 = w[1:]*1./(rho*v_phase**2*4.)\n",
    "    fac2 = np.sqrt((2.*v_phase)/(pi*w[1:]*r))\n",
    "    phase = -1j * w[1:] / v_phase * r + 1j * pi / 4.0\n",
    "    decay = -(w[1:]*r)/(2.*v_phase*q)\n",
    "    \n",
    "    g_fd[1:] = fac1*fac2*np.exp(phase)*np.exp(decay)\n",
    "    if plot:\n",
    "        plt.plot(freq,np.abs(g_fd))\n",
    "        plt.show()\n",
    "    return g_fd"
   ]
  },
  {
   "cell_type": "code",
   "execution_count": null,
   "metadata": {
    "collapsed": false
   },
   "outputs": [
    {
     "name": "stderr",
     "output_type": "stream",
     "text": [
      "/Users/lermert/anaconda2/lib/python2.7/site-packages/ipykernel/__main__.py:14: ComplexWarning: Casting complex values to real discards the imaginary part\n"
     ]
    },
    {
     "data": {
      "image/png": "[encoded data removed]",
      "text/plain": [
       "<matplotlib.figure.Figure at 0x106962890>"
      ]
     },
     "metadata": {},
     "output_type": "display_data"
    },
    {
     "data": {
      "image/png": "[encoded data removed]",
      "text/plain": [
       "<matplotlib.figure.Figure at 0x1126caf50>"
      ]
     },
     "metadata": {},
     "output_type": "display_data"
    }
   ],
   "source": [
    "for i in range(len(rec_codes)):\n",
    "    if not os.path.exists(output_location):\n",
    "        os.mkdir(output_location)\n",
    "\n",
    "    station = rec_codes[i]\n",
    "    lat_sta = rec_locations[i][0]\n",
    "    lon_sta = rec_locations[i][1]\n",
    "\n",
    "    # initialize the file\n",
    "\n",
    "    f_out_name = os.path.join(output_location, station + '.h5') \n",
    "    with h5py.File(f_out_name, \"w\") as f_out:\n",
    "\n",
    "        # DATASET NR 1: STATS\n",
    "        stats = f_out.create_dataset('stats',data=(0,))\n",
    "        stats.attrs['reference_station'] = station\n",
    "        stats.attrs['data_quantity'] = data_quantity\n",
    "        stats.attrs['ntraces'] = ntraces\n",
    "        stats.attrs['Fs'] = Fs\n",
    "        stats.attrs['nt'] = int(npts)\n",
    "\n",
    "        # DATASET NR 2: Source grid\n",
    "        sources = f_out.create_dataset('sourcegrid',data=srcgrid)\n",
    "\n",
    "        # DATASET Nr 3: Seismograms itself\n",
    "        traces = f_out.create_dataset('data',(ntraces,npts),dtype=np.float32)\n",
    "\n",
    "        for k in range(ntraces):\n",
    "            # for each location, determine the distance\n",
    "            lat = srcgrid[1,k]\n",
    "            lon = srcgrid[0,k]\n",
    "\n",
    "            r = gps2dist_azimuth(lat,lon,lat_sta,lon_sta)[0]\n",
    "\n",
    "        # evaluate the Greens fct.\n",
    "            if k % 10000 == 0:\n",
    "                plot = True\n",
    "            else:\n",
    "                plot = False\n",
    "            g1 = green_membrane(r,plot)\n",
    "\n",
    "        # apply the freq. domain taper\n",
    "            taper = np.zeros(freq.shape)\n",
    "            i0 = np.argmin(np.abs(freq-filt[0]))\n",
    "            i1 = np.argmin(np.abs(freq-filt[1]))\n",
    "\n",
    "            taper[i0:i1] = hann(i1-i0)\n",
    "\n",
    "        # transform back to time domain\n",
    "            g1_td = np.fft.irfft(g1)[0:3600]\n",
    "            g1_td_taper = np.fft.irfft(taper*g1)[0:3600]\n",
    "            if k % 30000 == 0:\n",
    "                t = np.linspace(0,npts*1./Fs,npts)\n",
    "                #plt.plot(t,g1_td)\n",
    "                plt.plot(t,g1_td_taper)\n",
    "                plt.xlim([0,1500])\n",
    "                plt.title('Greens fct, distance %g m' %r)\n",
    "                plt.show()\n",
    "\n",
    "\n",
    "        # write the result\n",
    "            traces[k,:] = g1_td_taper\n",
    "            f_out.flush()\n",
    "\n"
   ]
  },
  {
   "cell_type": "code",
   "execution_count": null,
   "metadata": {
    "collapsed": true
   },
   "outputs": [],
   "source": []
  }
 ],
 "metadata": {
  "anaconda-cloud": {},
  "kernelspec": {
   "display_name": "Python [default]",
   "language": "python",
   "name": "python2"
  },
  "language_info": {
   "codemirror_mode": {
    "name": "ipython",
    "version": 2
   },
   "file_extension": ".py",
   "mimetype": "text/x-python",
   "name": "python",
   "nbconvert_exporter": "python",
   "pygments_lexer": "ipython2",
   "version": "2.7.12"
  }
 },
 "nbformat": 4,
 "nbformat_minor": 0
}
