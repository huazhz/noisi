{
 "cells": [
  {
   "cell_type": "markdown",
   "metadata": {},
   "source": [
    "# Setup noise source distribution"
   ]
  },
  {
   "cell_type": "code",
   "execution_count": 1,
   "metadata": {},
   "outputs": [
    {
     "name": "stdout",
     "output_type": "stream",
     "text": [
      "================================================================================\n",
      "NOISI toolkit\n",
      "Python version: 3.6.5 | packaged by conda-forge | (default, Apr  6 2018, 13:44:09) \n",
      "[GCC 4.2.1 Compatible Apple LLVM 6.1.0 (clang-602.0.53)]\n",
      "mpi4py version: 3.0.0\n",
      "/Users/jigel/noisi/noisi\n",
      "================================================================================\n"
     ]
    }
   ],
   "source": [
    "import numpy as np\n",
    "from obspy.geodetics import gps2dist_azimuth\n",
    "from obspy.signal.invsim import cosine_taper\n",
    "import matplotlib.pyplot as plt\n",
    "import h5py\n",
    "from noisi import WaveField\n",
    "import json\n",
    "from glob import glob\n",
    "import os\n",
    "from scipy.fftpack import next_fast_len\n",
    "%matplotlib inline"
   ]
  },
  {
   "cell_type": "code",
   "execution_count": 2,
   "metadata": {},
   "outputs": [],
   "source": [
    "######################\n",
    "# Define the bases!\n",
    "######################\n",
    "# geography - Add anything else than a homogeneous distribution by setting to \"True\" the following:\n",
    "only_ocean = False\n",
    "gaussian_blobs = False\n",
    "params_gaussian_blobs = [{'center':(0.,0.),'sigma_radius_m':500000.,'rel_weight':2.}]\n",
    "\n",
    "#spectra\n",
    "params_gaussian_spectra = [{'central_freq':0.075,'sigma_freq':0.1,'weight':10.}]\n",
    "                          #{'central_freq':0.075,'sigma_freq':0.1,'weight':10.}]"
   ]
  },
  {
   "cell_type": "code",
   "execution_count": 3,
   "metadata": {},
   "outputs": [
    {
     "name": "stdout",
     "output_type": "stream",
     "text": [
      "27853\n"
     ]
    }
   ],
   "source": [
    "grd  = np.load('../sourcegrid.npy')\n",
    "ntraces = np.shape(grd)[-1]\n",
    "print(ntraces)"
   ]
  },
  {
   "cell_type": "code",
   "execution_count": 8,
   "metadata": {},
   "outputs": [
    {
     "name": "stdout",
     "output_type": "stream",
     "text": [
      "*.h5\n",
      "<HDF5 file \"CH.FIESA..MXZ.h5\" (mode r)>\n",
      "1.0 1703 3456\n",
      "0.0 0.5\n",
      "1729\n"
     ]
    }
   ],
   "source": [
    "config = json.load(open('../config.json'))    \n",
    "source_config = json.load(open('./source_config.json'))\n",
    "# Find the sampling rate and the nr. of points in synthetic seismograms\n",
    "synthetics_path = config['wavefield_path']\n",
    "\n",
    "if source_config['preprocess_do']:\n",
    "    ext = '*.h5_proc'\n",
    "else:\n",
    "    ext = '*.h5'\n",
    "print(ext)\n",
    "wfs = glob(os.path.join(synthetics_path,ext))\n",
    "with WaveField(wfs[0]) as wf:\n",
    "    df = wf.stats['Fs']\n",
    "    nt = wf.stats['nt']\n",
    "    # The number of points for the fft is larger due to zeropadding --> apparent higher frequency sampling\\n\",\n",
    "    n = next_fast_len(2*nt-1)\n",
    "    print(df,nt,n)\n",
    "    freq = np.fft.rfftfreq(n,d=1./df)\n",
    "    print(np.min(freq),np.max(freq))\n",
    "    taper = cosine_taper(len(freq),0.05)\n",
    "    print(len(freq))"
   ]
  },
  {
   "cell_type": "code",
   "execution_count": 9,
   "metadata": {},
   "outputs": [],
   "source": [
    "def get_distance(grid,location):\n",
    "    def f(lat,lon,location):\n",
    "        return abs(gps2dist_azimuth(lat,lon,location[0],location[1])[0])\n",
    "    dist = np.array([f(lat,lon,location) for lat,lon in zip(grid[1],grid[0])])\n",
    "    return dist\n",
    "    # Use Basemap to figure out where ocean is\n",
    "def get_ocean_mask():\n",
    "    from mpl_toolkits.basemap import Basemap\n",
    "    m = Basemap(rsphere=6378137,resolution='c',projection='cea',lat_0=0.,\n",
    "                lon_0=0.,llcrnrlat=-90.,urcrnrlat=90.,llcrnrlon=-180.,urcrnrlon=180.)\n",
    "    (x,y) = m(grd[0],grd[1])\n",
    "    ocean_mask = map(lambda x,y: not m.is_land(x,y),zip(x,y))\n",
    "    return ocean_mask"
   ]
  },
  {
   "cell_type": "code",
   "execution_count": 10,
   "metadata": {},
   "outputs": [
    {
     "name": "stdout",
     "output_type": "stream",
     "text": [
      "(1, 27853)\n",
      "(1, 27853)\n"
     ]
    }
   ],
   "source": [
    "#########################\n",
    "# Create the source distr\n",
    "#########################\n",
    "\n",
    "# geography\n",
    "num_bases = 1\n",
    "if gaussian_blobs:\n",
    "    num_bases += len(params_gaussian_blobs)\n",
    "\n",
    "basis1 = np.zeros((num_bases,ntraces))\n",
    "print(np.shape(basis1))\n",
    "# homogeneous layer\n",
    "basis1[0,:] = np.ones(ntraces) \n",
    "if only_ocean:\n",
    "    basis1[0,:] *= np.array(get_ocean_mask()).astype(int)\n",
    "    # superimposed Gaussian blob(s)\n",
    "if gaussian_blobs:\n",
    "    i = 1\n",
    "    for blob in params_gaussian_blobs:\n",
    "        dist = get_distance(grd,blob['center'])\n",
    "        basis1[i,:] = np.exp(-(dist)**2/(2*blob['sigma_radius_m']**2))\n",
    "        i+=1\n",
    "\n",
    "        \n",
    "# spectra\n",
    "basis2 = np.zeros((len(params_gaussian_spectra),len(freq)))\n",
    "# 'sort of hum gaussian'\n",
    "i = 0\n",
    "for spec in params_gaussian_spectra:\n",
    "    basis2[i,:] = taper*np.exp(-(freq-spec['central_freq'])**2/(2*spec['sigma_freq']**2))\n",
    "# This normalization means different integrals...\n",
    "    basis2[i,:] /= np.max(np.abs(basis2[0,:]))\n",
    "    i+=1\n",
    "\n",
    "print(np.shape(basis1))"
   ]
  },
  {
   "cell_type": "code",
   "execution_count": 11,
   "metadata": {},
   "outputs": [
    {
     "name": "stdout",
     "output_type": "stream",
     "text": [
      "(1,)\n"
     ]
    }
   ],
   "source": [
    "######################\n",
    "# set the weights\n",
    "#####################\n",
    "# geography\n",
    "weights1 = np.ones(np.shape(basis1)[0])\n",
    "print(np.shape(weights1))\n",
    "if gaussian_blobs:\n",
    "    i = 1\n",
    "    for blob in params_gaussian_blobs:\n",
    "        weights1[i] = blob['rel_weight']\n",
    "        i+=1\n",
    "#print weights1\n",
    "# spectra --- much harder to assign manually, since we need weights for every location. just assigning ones.\\n\",\n",
    "weights2 = np.ones((np.shape(grd)[-1],np.shape(basis2)[0]))\n",
    "i=0\n",
    "for spec in params_gaussian_spectra:\n",
    "    weights2[:,i] *= spec['weight']\n",
    "#print weights2"
   ]
  },
  {
   "cell_type": "code",
   "execution_count": 12,
   "metadata": {},
   "outputs": [],
   "source": [
    "from noisi.util import plot"
   ]
  },
  {
   "cell_type": "code",
   "execution_count": 13,
   "metadata": {},
   "outputs": [
    {
     "name": "stdout",
     "output_type": "stream",
     "text": [
      "max. value on map: 1\n"
     ]
    },
    {
     "data": {
      "image/png": "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\n",
      "text/plain": [
       "<Figure size 792x648 with 2 Axes>"
      ]
     },
     "metadata": {},
     "output_type": "display_data"
    },
    {
     "data": {
      "image/png": "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\n",
      "text/plain": [
       "<Figure size 432x288 with 1 Axes>"
      ]
     },
     "metadata": {},
     "output_type": "display_data"
    }
   ],
   "source": [
    "distr = np.dot(weights1,basis1)\n",
    "plot.plot_grid(grd[0],grd[1],distr)\n",
    "\n",
    "plt.semilogx(freq,np.dot(weights2[0,:],basis2))\n",
    "plt.show()"
   ]
  },
  {
   "cell_type": "markdown",
   "metadata": {},
   "source": [
    "# Voronoi Cell Surface Area\n",
    "\n",
    "New: The voronoi cells are computed for the given grid and the surface areas are calculated. These should then be added to the sourcemodel in surf_area. \n",
    "\n",
    "This might take some time. "
   ]
  },
  {
   "cell_type": "code",
   "execution_count": 1,
   "metadata": {},
   "outputs": [
    {
     "name": "stdout",
     "output_type": "stream",
     "text": [
      "================================================================================\n",
      "NOISI toolkit\n",
      "Python version: 3.6.5 | packaged by conda-forge | (default, Apr  6 2018, 13:44:09) \n",
      "[GCC 4.2.1 Compatible Apple LLVM 6.1.0 (clang-602.0.53)]\n",
      "mpi4py version: 3.0.0\n",
      "/Users/jigel/noisi/noisi\n",
      "================================================================================\n"
     ]
    },
    {
     "name": "stderr",
     "output_type": "stream",
     "text": [
      "/Users/jigel/noisi/noisi/borrowed_functions/voronoi_surface_area.py:5: UserWarning: \n",
      "This call to matplotlib.use() has no effect because the backend has already\n",
      "been chosen; matplotlib.use() must be called *before* pylab, matplotlib.pyplot,\n",
      "or matplotlib.backends is imported for the first time.\n",
      "\n",
      "The backend was *originally* set to 'module://ipykernel.pylab.backend_inline' by the following code:\n",
      "  File \"/Users/jigel/anaconda3/envs/Noisi_Py3/lib/python3.6/runpy.py\", line 193, in _run_module_as_main\n",
      "    \"__main__\", mod_spec)\n",
      "  File \"/Users/jigel/anaconda3/envs/Noisi_Py3/lib/python3.6/runpy.py\", line 85, in _run_code\n",
      "    exec(code, run_globals)\n",
      "  File \"/Users/jigel/anaconda3/envs/Noisi_Py3/lib/python3.6/site-packages/ipykernel/__main__.py\", line 3, in <module>\n",
      "    app.launch_new_instance()\n",
      "  File \"/Users/jigel/anaconda3/envs/Noisi_Py3/lib/python3.6/site-packages/traitlets/config/application.py\", line 658, in launch_instance\n",
      "    app.start()\n",
      "  File \"/Users/jigel/anaconda3/envs/Noisi_Py3/lib/python3.6/site-packages/ipykernel/kernelapp.py\", line 486, in start\n",
      "    self.io_loop.start()\n",
      "  File \"/Users/jigel/anaconda3/envs/Noisi_Py3/lib/python3.6/site-packages/tornado/platform/asyncio.py\", line 127, in start\n",
      "    self.asyncio_loop.run_forever()\n",
      "  File \"/Users/jigel/anaconda3/envs/Noisi_Py3/lib/python3.6/asyncio/base_events.py\", line 422, in run_forever\n",
      "    self._run_once()\n",
      "  File \"/Users/jigel/anaconda3/envs/Noisi_Py3/lib/python3.6/asyncio/base_events.py\", line 1432, in _run_once\n",
      "    handle._run()\n",
      "  File \"/Users/jigel/anaconda3/envs/Noisi_Py3/lib/python3.6/asyncio/events.py\", line 145, in _run\n",
      "    self._callback(*self._args)\n",
      "  File \"/Users/jigel/anaconda3/envs/Noisi_Py3/lib/python3.6/site-packages/tornado/platform/asyncio.py\", line 117, in _handle_events\n",
      "    handler_func(fileobj, events)\n",
      "  File \"/Users/jigel/anaconda3/envs/Noisi_Py3/lib/python3.6/site-packages/tornado/stack_context.py\", line 276, in null_wrapper\n",
      "    return fn(*args, **kwargs)\n",
      "  File \"/Users/jigel/anaconda3/envs/Noisi_Py3/lib/python3.6/site-packages/zmq/eventloop/zmqstream.py\", line 450, in _handle_events\n",
      "    self._handle_recv()\n",
      "  File \"/Users/jigel/anaconda3/envs/Noisi_Py3/lib/python3.6/site-packages/zmq/eventloop/zmqstream.py\", line 480, in _handle_recv\n",
      "    self._run_callback(callback, msg)\n",
      "  File \"/Users/jigel/anaconda3/envs/Noisi_Py3/lib/python3.6/site-packages/zmq/eventloop/zmqstream.py\", line 432, in _run_callback\n",
      "    callback(*args, **kwargs)\n",
      "  File \"/Users/jigel/anaconda3/envs/Noisi_Py3/lib/python3.6/site-packages/tornado/stack_context.py\", line 276, in null_wrapper\n",
      "    return fn(*args, **kwargs)\n",
      "  File \"/Users/jigel/anaconda3/envs/Noisi_Py3/lib/python3.6/site-packages/ipykernel/kernelbase.py\", line 283, in dispatcher\n",
      "    return self.dispatch_shell(stream, msg)\n",
      "  File \"/Users/jigel/anaconda3/envs/Noisi_Py3/lib/python3.6/site-packages/ipykernel/kernelbase.py\", line 233, in dispatch_shell\n",
      "    handler(stream, idents, msg)\n",
      "  File \"/Users/jigel/anaconda3/envs/Noisi_Py3/lib/python3.6/site-packages/ipykernel/kernelbase.py\", line 399, in execute_request\n",
      "    user_expressions, allow_stdin)\n",
      "  File \"/Users/jigel/anaconda3/envs/Noisi_Py3/lib/python3.6/site-packages/ipykernel/ipkernel.py\", line 208, in do_execute\n",
      "    res = shell.run_cell(code, store_history=store_history, silent=silent)\n",
      "  File \"/Users/jigel/anaconda3/envs/Noisi_Py3/lib/python3.6/site-packages/ipykernel/zmqshell.py\", line 537, in run_cell\n",
      "    return super(ZMQInteractiveShell, self).run_cell(*args, **kwargs)\n",
      "  File \"/Users/jigel/anaconda3/envs/Noisi_Py3/lib/python3.6/site-packages/IPython/core/interactiveshell.py\", line 2662, in run_cell\n",
      "    raw_cell, store_history, silent, shell_futures)\n",
      "  File \"/Users/jigel/anaconda3/envs/Noisi_Py3/lib/python3.6/site-packages/IPython/core/interactiveshell.py\", line 2785, in _run_cell\n",
      "    interactivity=interactivity, compiler=compiler, result=result)\n",
      "  File \"/Users/jigel/anaconda3/envs/Noisi_Py3/lib/python3.6/site-packages/IPython/core/interactiveshell.py\", line 2903, in run_ast_nodes\n",
      "    if self.run_code(code, result):\n",
      "  File \"/Users/jigel/anaconda3/envs/Noisi_Py3/lib/python3.6/site-packages/IPython/core/interactiveshell.py\", line 2963, in run_code\n",
      "    exec(code_obj, self.user_global_ns, self.user_ns)\n",
      "  File \"<ipython-input-1-600d29b7fa17>\", line 2, in <module>\n",
      "    from noisi.borrowed_functions.voronoi_polygons import getVoronoiCollection\n",
      "  File \"/Users/jigel/noisi/noisi/__init__.py\", line 12, in <module>\n",
      "    from .my_classes.wavefield import WaveField\n",
      "  File \"/Users/jigel/noisi/noisi/my_classes/wavefield.py\", line 7, in <module>\n",
      "    from noisi.util import plot\n",
      "  File \"/Users/jigel/noisi/noisi/util/plot.py\", line 5, in <module>\n",
      "    import matplotlib.pyplot as plt\n",
      "  File \"/Users/jigel/anaconda3/envs/Noisi_Py3/lib/python3.6/site-packages/matplotlib/pyplot.py\", line 71, in <module>\n",
      "    from matplotlib.backends import pylab_setup\n",
      "  File \"/Users/jigel/anaconda3/envs/Noisi_Py3/lib/python3.6/site-packages/matplotlib/backends/__init__.py\", line 16, in <module>\n",
      "    line for line in traceback.format_stack()\n",
      "\n",
      "\n",
      "  matplotlib.use('Agg')\n"
     ]
    },
    {
     "ename": "NameError",
     "evalue": "name 'grd' is not defined",
     "output_type": "error",
     "traceback": [
      "\u001b[0;31m---------------------------------------------------------------------------\u001b[0m",
      "\u001b[0;31mNameError\u001b[0m                                 Traceback (most recent call last)",
      "\u001b[0;32m<ipython-input-1-600d29b7fa17>\u001b[0m in \u001b[0;36m<module>\u001b[0;34m()\u001b[0m\n\u001b[1;32m      8\u001b[0m \u001b[0;34m\u001b[0m\u001b[0m\n\u001b[1;32m      9\u001b[0m \u001b[0;31m# convert grid into panda dataframe\u001b[0m\u001b[0;34m\u001b[0m\u001b[0;34m\u001b[0m\u001b[0m\n\u001b[0;32m---> 10\u001b[0;31m \u001b[0mgridpd\u001b[0m \u001b[0;34m=\u001b[0m \u001b[0;34m{\u001b[0m\u001b[0;34m'lat'\u001b[0m\u001b[0;34m:\u001b[0m \u001b[0mgrd\u001b[0m\u001b[0;34m[\u001b[0m\u001b[0;36m1\u001b[0m\u001b[0;34m]\u001b[0m\u001b[0;34m,\u001b[0m \u001b[0;34m'lon'\u001b[0m\u001b[0;34m:\u001b[0m \u001b[0mgrd\u001b[0m\u001b[0;34m[\u001b[0m\u001b[0;36m0\u001b[0m\u001b[0;34m]\u001b[0m\u001b[0;34m}\u001b[0m\u001b[0;34m\u001b[0m\u001b[0m\n\u001b[0m\u001b[1;32m     11\u001b[0m \u001b[0mgrid_data\u001b[0m \u001b[0;34m=\u001b[0m \u001b[0mpd\u001b[0m\u001b[0;34m.\u001b[0m\u001b[0mDataFrame\u001b[0m\u001b[0;34m(\u001b[0m\u001b[0mdata\u001b[0m\u001b[0;34m=\u001b[0m\u001b[0mgridpd\u001b[0m\u001b[0;34m)\u001b[0m\u001b[0;34m\u001b[0m\u001b[0m\n\u001b[1;32m     12\u001b[0m \u001b[0;34m\u001b[0m\u001b[0m\n",
      "\u001b[0;31mNameError\u001b[0m: name 'grd' is not defined"
     ]
    }
   ],
   "source": [
    "import pandas as pd\n",
    "from noisi.borrowed_functions.voronoi_polygons import getVoronoiCollection\n",
    "from noisi.borrowed_functions.voronoi_surface_area import calculate_surface_area_of_a_spherical_Voronoi_polygon\n",
    "from noisi.borrowed_functions.voronoi_polygons import xyzToSpherical\n",
    "import warnings\n",
    "warnings.filterwarnings(\"ignore\")\n",
    "\n",
    "\n",
    "# convert grid into panda dataframe\n",
    "gridpd = {'lat': grd[1], 'lon': grd[0]}\n",
    "grid_data = pd.DataFrame(data=gridpd)\n",
    "\n",
    "# Calculate the vertices for the voronoi cells\n",
    "collection,voronoi,patch_index = getVoronoiCollection(data=grid_data,lat_name='lat',lon_name='lon',full_sphere=True)\n",
    "\n",
    "\n",
    "# Calculate the surface area for each voronoi cell\n",
    "Voronoi_lat = []\n",
    "Voronoi_lon = []\n",
    "Voronoi_area = []\n",
    "\n",
    "for i in range(0,np.size(voronoi.points,0)):\n",
    "    P_cart = xyzToSpherical(x=voronoi.points[i,0],y=voronoi.points[i,1],z=voronoi.points[i,2])\n",
    "    Voronoi_lat.append(P_cart[0])\n",
    "    Voronoi_lon.append(P_cart[1])\n",
    "    vert_index = voronoi.regions[i]\n",
    "    vert_points = voronoi.vertices[voronoi.regions[i]]\n",
    "    area = calculate_surface_area_of_a_spherical_Voronoi_polygon(vert_points,6371)\n",
    "    Voronoi_area.append(area)\n",
    "    \n",
    "# Reassign grd so that everything is in the right order\n",
    "grd = np.asarray([Voronoi_lon,Voronoi_lat])\n",
    "Voronoi_area = np.asarray(Voronoi_area)\n",
    "print('Area of Voronoi cells calculated.')"
   ]
  },
  {
   "cell_type": "markdown",
   "metadata": {},
   "source": [
    "# Export"
   ]
  },
  {
   "cell_type": "code",
   "execution_count": 14,
   "metadata": {},
   "outputs": [
    {
     "name": "stdout",
     "output_type": "stream",
     "text": [
      "1729\n"
     ]
    }
   ],
   "source": [
    "# Save to an hdf5 file\n",
    "sourcepath = ('./')\n",
    "print(len(basis2[0,:]))\n",
    "\n",
    "with h5py.File('sourcemodel.h5','w') as fh:\n",
    "    fh.create_dataset('coordinates',data=grd.astype(np.float32))\n",
    "    fh.create_dataset('frequencies',data=freq.astype(np.float32))\n",
    "    fh.create_dataset('distr_basis',data=basis1.astype(np.float32))\n",
    "    fh.create_dataset('distr_weights',data=weights1.astype(np.float32))\n",
    "    fh.create_dataset('spect_basis',data=basis2.astype(np.float32))\n",
    "    fh.create_dataset('spect_weights',data=weights2.astype(np.float32))\n",
<<<<<<< HEAD
    "    fh.create_dataset('surf_area',data=Voronoi_area.astype(np.float32))\n",
    "    \n",
||||||| merged common ancestors
    "    \n",
=======
    "\n",
>>>>>>> origin/master
    "    \n",
    "# Save sourcemodel as starting_model\n",
    "\n",
    "with h5py.File(os.path.join(sourcepath,'step_0','starting_model.h5'),'w') as fh:\n",
    "    fh.create_dataset('coordinates',data=grd.astype(np.float32))\n",
    "    fh.create_dataset('frequencies',data=freq.astype(np.float32))\n",
    "    fh.create_dataset('distr_basis',data=basis1.astype(np.float32))\n",
    "    fh.create_dataset('distr_weights',data=weights1.astype(np.float32))\n",
    "    fh.create_dataset('spect_basis',data=basis2.astype(np.float32))\n",
    "    fh.create_dataset('spect_weights',data=weights2.astype(np.float32))\n",
    "    fh.create_dataset('surf_area',data=Voronoi_area.astype(np.float32))\n",
    "\n",
    "\n",
    "    \n",
    "# Create base_model\n",
    "\n",
    "basis1_b = np.ones(basis1.shape)\n",
    "with h5py.File(os.path.join(sourcepath,'step_0','base_model.h5'),'w') as fh:\n",
    "    fh.create_dataset('coordinates',data=grd.astype(np.float32))\n",
    "    fh.create_dataset('frequencies',data=freq.astype(np.float32))\n",
    "    fh.create_dataset('distr_basis',data=basis1_b.astype(np.float32))\n",
    "    fh.create_dataset('distr_weights',data=weights1.astype(np.float32))\n",
<<<<<<< HEAD
    "    fh.create_dataset('spect_basis',data=basis2.astype(np.float32))\n",
    "    fh.create_dataset('surf_area',data=Voronoi_area.astype(np.float32))\n",
    "\n"
||||||| merged common ancestors
    "    fh.create_dataset('spect_basis',data=basis2.astype(np.float32))"
=======
    "    fh.create_dataset('spect_basis',data=basis2.astype(np.float32))\n"
>>>>>>> origin/master
   ]
  },
  {
   "cell_type": "code",
   "execution_count": 13,
   "metadata": {},
   "outputs": [
    {
     "name": "stdout",
     "output_type": "stream",
     "text": [
      "[[   8.2           8.26285398    8.26513664 ..., -171.73159611 -171.9880775\n",
      "  -172.24413214]\n",
      " [  46.8          47.09691573   47.09668636 ...,  -43.22828773\n",
      "   -43.23043285  -43.24176501]]\n"
     ]
    }
   ],
   "source": []
  },
  {
   "cell_type": "code",
   "execution_count": 15,
   "metadata": {},
   "outputs": [
    {
     "name": "stdout",
     "output_type": "stream",
     "text": [
      "Correlations.png                 setup_noisesource.ipynb\r\n",
      "make_synthetic_data.ipynb        setup_noisesource.py\r\n",
      "measr_config.json                source_config.json\r\n",
      "\u001b[34mobserved_correlations\u001b[m\u001b[m/           sourcemodel.h5\r\n",
      "plot_corr_sort_azimuth.ipynb     \u001b[34mstep_0\u001b[m\u001b[m/\r\n",
      "plot_kernel_gradient.ipynb       test_gradient_consistency.ipynb\r\n",
      "precompute_1DGreen.ipynb         wavefield_from_instaseis.py\r\n",
      "setup_gaussian_grid.ipynb        \u001b[34mwavefield_processed\u001b[m\u001b[m/\r\n"
     ]
    }
   ],
   "source": [
    "ls"
   ]
  },
  {
   "cell_type": "code",
   "execution_count": 16,
   "metadata": {},
   "outputs": [
    {
     "name": "stdout",
     "output_type": "stream",
     "text": [
      "Not copied: plot_corr_sort_azimuth.ipynb\n",
      "Not copied: test_gradient_consistency.ipynb\n",
      "Not copied: precompute_1DGreen.ipynb\n",
      "Not copied: plot_kernel_gradient.ipynb\n",
      "Not copied: setup_noisesource.ipynb\n",
      "Not copied: make_synthetic_data.ipynb\n"
     ]
    }
   ],
   "source": [
    "# Copy jupyter notebooks from util to source folder\n",
    "# import again in case only this cell is run\n",
    "\n",
    "import shutil\n",
    "from glob import glob\n",
    "import os\n",
    "\n",
    "path_util = ('../../noisi/jnotebks/')\n",
    "ext = ('*.ipynb')\n",
    "path_source = os.getcwd()\n",
    "#print(path_source)\n",
    "\n",
    "file_nb = glob(os.path.join(path_util,ext))\n",
    "#print(file_nb)\n",
    "\n",
    "for files in file_nb:\n",
    "    if os.path.exists(os.path.join(path_source,os.path.basename(files))):\n",
    "        print('Not copied: ' + os.path.basename(files))\n",
    "        continue\n",
    "    else:\n",
    "        shutil.copy(files,path_source)\n",
    "        print('Copied:  ' + os.path.basename(files))"
   ]
  },
  {
   "cell_type": "code",
   "execution_count": null,
   "metadata": {},
   "outputs": [],
   "source": []
  },
  {
   "cell_type": "code",
   "execution_count": null,
   "metadata": {},
   "outputs": [],
   "source": []
  }
 ],
 "metadata": {
  "anaconda-cloud": {},
  "kernelspec": {
   "display_name": "Python [conda env:Noisi_Py3]",
   "language": "python",
   "name": "conda-env-Noisi_Py3-py"
  },
  "language_info": {
   "codemirror_mode": {
    "name": "ipython",
    "version": 3
   },
   "file_extension": ".py",
   "mimetype": "text/x-python",
   "name": "python",
   "nbconvert_exporter": "python",
   "pygments_lexer": "ipython3",
   "version": "3.6.5"
  }
 },
 "nbformat": 4,
 "nbformat_minor": 1
}
