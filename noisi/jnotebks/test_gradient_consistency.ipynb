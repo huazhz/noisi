{
 "cells": [
  {
   "cell_type": "code",
   "execution_count": 1,
   "metadata": {},
   "outputs": [],
   "source": [
    "# after implementing new envelope misfit function,\n",
    "# would like to check gradient consistency\n",
    "# the testdata/testsrc setup could be used for that."
   ]
  },
  {
   "cell_type": "code",
   "execution_count": 2,
   "metadata": {},
   "outputs": [],
   "source": [
    "# what we need for preparation:\n",
    "# - compute the gradient for the input source\n",
    "# - have a vector of smaller and smaller steps\n",
    "# - have a random update to the model\n",
    "# - compute m0\n",
    "\n",
    "# what we do then for each step in the step vector:\n",
    "# - scale the random update by this step\n",
    "# - compute the model of the input plus the update\n",
    "# - get the misfit of that model output\n",
    "# - get the relative error between this misfit and m0\n",
    "# - record (step,relative error)"
   ]
  },
  {
   "cell_type": "code",
   "execution_count": 49,
   "metadata": {},
   "outputs": [],
   "source": [
    "import os\n",
    "import numpy as np\n",
    "from obspy import read\n",
    "from pandas import read_csv\n",
    "import h5py\n",
    "import matplotlib.pyplot as plt\n",
    "mtype = 'square_envelope'"
   ]
  },
  {
   "cell_type": "code",
   "execution_count": 50,
   "metadata": {},
   "outputs": [
    {
     "data": {
      "text/plain": [
       "0"
      ]
     },
     "execution_count": 50,
     "metadata": {},
     "output_type": "execute_result"
    }
   ],
   "source": [
    "# compute the gradient for the input model\n",
    "os.system('cp -R ../test/testdata/testsrc/wavefield_processed_archived/ \\\n",
    "          ../test/testdata/testsrc/wavefield_processed')\n",
    "os.system('cp ../test/testdata/testsrc/step_0/starting_model_archived.h5 \\\n",
    "          ../test/testdata/testsrc/step_0/starting_model.h5')\n",
    "os.mkdir('../test/testdata/testsrc/step_0/corr')\n",
    "os.mkdir('../test/testdata/testsrc/step_0/adjt')\n",
    "os.mkdir('../test/testdata/testsrc/step_0/kern')\n",
    "os.mkdir('../test/testdata/testsrc/step_0/grad')\n",
    "os.system('cp inputs/measr_config.json ../test/testdata/testsrc/')\n",
    "os.system('cp inputs/source_config.json ../test/testdata/testsrc/')\n",
    "os.system('cp inputs/config.json ../test/testdata/')"
   ]
  },
  {
   "cell_type": "code",
   "execution_count": 51,
   "metadata": {},
   "outputs": [
    {
     "data": {
      "text/plain": [
       "0"
      ]
     },
     "execution_count": 51,
     "metadata": {},
     "output_type": "execute_result"
    }
   ],
   "source": [
    "os.system('noisi correlation ../test/testdata/testsrc 0')\n",
    "### remove output after finishing"
   ]
  },
  {
   "cell_type": "code",
   "execution_count": 52,
   "metadata": {},
   "outputs": [
    {
     "name": "stdout",
     "output_type": "stream",
     "text": [
      "299.319251583\n"
     ]
    }
   ],
   "source": [
    "os.system('noisi measurement ../test/testdata/testsrc 0')\n",
    "m0 = read_csv('../test/testdata/testsrc/step_0/'+mtype+'.0.measurement.csv')['l2_norm'][0]\n",
    "print(m0)"
   ]
  },
  {
   "cell_type": "code",
   "execution_count": 53,
   "metadata": {},
   "outputs": [
    {
     "data": {
      "text/plain": [
       "0"
      ]
     },
     "execution_count": 53,
     "metadata": {},
     "output_type": "execute_result"
    }
   ],
   "source": [
    "os.system('noisi kernel ../test/testdata/testsrc 0')"
   ]
  },
  {
   "cell_type": "code",
   "execution_count": 54,
   "metadata": {},
   "outputs": [
    {
     "data": {
      "text/plain": [
       "0"
      ]
     },
     "execution_count": 54,
     "metadata": {},
     "output_type": "execute_result"
    }
   ],
   "source": [
    "os.system('noisi gradient ../test/testdata/testsrc 0')"
   ]
  },
  {
   "cell_type": "code",
   "execution_count": 55,
   "metadata": {},
   "outputs": [],
   "source": [
    "eps = np.arange(-6,1.5,0.2)"
   ]
  },
  {
   "cell_type": "code",
   "execution_count": 56,
   "metadata": {
    "scrolled": true
   },
   "outputs": [
    {
     "name": "stdout",
     "output_type": "stream",
     "text": [
      "[[ 3.18551112  3.39172396  3.7422353  ...,  3.66293192  3.27307959\n",
      "   3.03442134]]\n"
     ]
    }
   ],
   "source": [
    "grad = np.load('../test/testdata/testsrc/step_0/grad/grad_all.npy')\n",
    "print(grad)"
   ]
  },
  {
   "cell_type": "code",
   "execution_count": 57,
   "metadata": {},
   "outputs": [],
   "source": [
    "direction = (np.random.random((grad.shape))-0.5)"
   ]
  },
  {
   "cell_type": "code",
   "execution_count": 58,
   "metadata": {},
   "outputs": [
    {
     "name": "stdout",
     "output_type": "stream",
     "text": [
      "[ 19.3482503]\n"
     ]
    }
   ],
   "source": [
    "m_grad = np.dot(direction,np.transpose(grad))[0]\n",
    "print(m_grad)"
   ]
  },
  {
   "cell_type": "code",
   "execution_count": 59,
   "metadata": {},
   "outputs": [],
   "source": [
    "\n",
    "def get_misfit_from_direction(dvec):\n",
    "    os.system('rm ../test/testdata/testsrc/step_0/starting_model.h5')\n",
    "    \n",
    "    os.system('cp ../test/testdata/testsrc/step_0/starting_model_archived.h5 \\\n",
    "          ../test/testdata/testsrc/step_0/starting_model.h5')\n",
    "    f = h5py.File('../test/testdata/testsrc/step_0/starting_model.h5','a')\n",
    "    \n",
    "    f['distr_basis'][:] += dvec\n",
    "    f.close()\n",
    "\n",
    "    \n",
    "    os.system('rm ../test/testdata/testsrc/step_0/corr/\\\n",
    "NET.STA1..CHA--NET.STA2..CHA.sac')\n",
    "    \n",
    "    os.system('rm ../test/testdata/testsrc/step_0/'+\n",
    "              mtype+'.0.measurement.csv')\n",
    "    \n",
    "    os.system('noisi correlation ../test/testdata/testsrc 0')\n",
    "    tr = read('../test/testdata/testsrc/step_0/corr/*')\n",
    "    corr = tr[0].data\n",
    "    os.system('noisi measurement ../test/testdata/testsrc 0')\n",
    "    msr = read_csv('../test/testdata/testsrc/step_0/'+\n",
    "                   mtype+'.0.measurement.csv')\n",
    "    msr = msr['l2_norm'][0]\n",
    "    \n",
    "    return(msr,corr)\n",
    "    \n",
    "    \n",
    "    "
   ]
  },
  {
   "cell_type": "code",
   "execution_count": 60,
   "metadata": {
    "scrolled": true
   },
   "outputs": [
    {
     "name": "stdout",
     "output_type": "stream",
     "text": [
      "0\n",
      "12.2506091884\n",
      "0.366836328795\n",
      "1\n",
      "18.0660623953\n",
      "0.0662689328758\n",
      "2\n",
      "15.0343619094\n",
      "0.222960129219\n",
      "3\n",
      "20.2099978959\n",
      "0.0445387870947\n",
      "4\n",
      "19.0618313329\n",
      "0.0148033521422\n",
      "5\n",
      "18.8949719359\n",
      "0.0234273566125\n",
      "6\n",
      "19.4149591294\n",
      "0.00344779672612\n",
      "7\n",
      "19.2821462575\n",
      "0.00341653828263\n",
      "8\n",
      "19.3783697533\n",
      "0.00155670189645\n",
      "9\n",
      "19.3930715351\n",
      "0.00231655260782\n",
      "10\n",
      "19.3447326606\n",
      "0.000181806349919\n",
      "11\n",
      "19.3715648967\n",
      "0.00120499791961\n",
      "12\n",
      "19.3255503005\n",
      "0.00117323243663\n",
      "13\n",
      "19.3671064352\n",
      "0.000974565635943\n",
      "14\n",
      "19.3555357622\n",
      "0.000376543961617\n",
      "15\n",
      "19.358806152\n",
      "0.000545571639559\n",
      "16\n",
      "19.3403888431\n",
      "0.000406313342433\n",
      "17\n",
      "19.3501397425\n",
      "9.76546781614e-05\n",
      "18\n",
      "19.3499200358\n",
      "8.62992977962e-05\n",
      "19\n",
      "19.3483602686\n",
      "5.68388234304e-06\n",
      "20\n",
      "19.3474497886\n",
      "4.13735986715e-05\n",
      "21\n",
      "19.3475863851\n",
      "3.43137114603e-05\n",
      "22\n",
      "19.3486153893\n",
      "1.88696088488e-05\n",
      "23\n",
      "19.3482996482\n",
      "2.55076253175e-06\n",
      "24\n",
      "19.3486728504\n",
      "2.18394450247e-05\n",
      "25\n",
      "19.3491876192\n",
      "4.84448883284e-05\n",
      "26\n",
      "19.3505087905\n",
      "0.000116728649037\n",
      "27\n",
      "19.3538647086\n",
      "0.000290176795165\n",
      "28\n",
      "19.3623285426\n",
      "0.000727623789146\n",
      "29\n",
      "19.3836979164\n",
      "0.00183208406438\n",
      "30\n",
      "19.4372579073\n",
      "0.00460029255998\n",
      "31\n",
      "19.5718327857\n",
      "0.0115556955742\n",
      "32\n",
      "19.9098613985\n",
      "0.0290264543094\n",
      "33\n",
      "20.7589592992\n",
      "0.0729114510271\n",
      "34\n",
      "22.8917893742\n",
      "0.183145195287\n",
      "35\n",
      "28.2492193645\n",
      "0.460040000166\n",
      "36\n",
      "41.7064765677\n",
      "1.15556838117\n",
      "37\n",
      "75.5096013516\n",
      "2.90265787339\n"
     ]
    },
    {
     "data": {
      "image/png": "[encoded data removed]",
      "text/plain": [
       "<Figure size 432x288 with 1 Axes>"
      ]
     },
     "metadata": {},
     "output_type": "display_data"
    },
    {
     "data": {
      "image/png": "[encoded data removed]",
      "text/plain": [
       "<Figure size 432x288 with 1 Axes>"
      ]
     },
     "metadata": {},
     "output_type": "display_data"
    }
   ],
   "source": [
    "results = np.zeros(len(eps))\n",
    "mf_a = np.zeros(len(eps))\n",
    "plt.figure\n",
    "for i in range(len(eps)):\n",
    "    print(i)\n",
    "    val = 10**eps[i]\n",
    "    msr1,corr = get_misfit_from_direction(val*direction)\n",
    "    msr2,corr2 = get_misfit_from_direction(-val*direction)\n",
    "    mf_approx = 1./(2.*val)*(msr1-msr2)\n",
    "    print(mf_approx)\n",
    "    results[i] = np.abs(m_grad-mf_approx)/np.abs(m_grad)\n",
    "    mf_a[i] = mf_approx\n",
    "    print(results[i])\n",
    "    plt.plot(corr)\n",
    "\n",
    "plt.show()\n",
    "plt.semilogy(eps,results)\n",
    "plt.show()"
   ]
  },
  {
   "cell_type": "code",
   "execution_count": 61,
   "metadata": {},
   "outputs": [
    {
     "data": {
      "text/plain": [
       "0"
      ]
     },
     "execution_count": 61,
     "metadata": {},
     "output_type": "execute_result"
    }
   ],
   "source": [
    "# removing copied files...\n",
    "os.system('rm -rf ../test/testdata/testsrc/wavefield_processed')\n",
    "os.system('rm ../test/testdata/testsrc/step_0/starting_model.h5')\n",
    "os.system('rm -rf ../test/testdata/testsrc/step_0/corr')\n",
    "os.system('rm -rf ../test/testdata/testsrc/step_0/adjt')\n",
    "os.system('rm -rf ../test/testdata/testsrc/step_0/kern')\n",
    "os.system('rm -rf ../test/testdata/testsrc/step_0/grad')\n",
    "os.system('rm ../test/testdata/testsrc/measr_config.json')\n",
    "os.system('rm ../test/testdata/testsrc/source_config.json')\n",
    "os.system('rm ../test/testdata/config.json')"
   ]
  },
  {
   "cell_type": "code",
   "execution_count": 62,
   "metadata": {},
   "outputs": [
    {
     "data": {
      "image/png": "[encoded data removed]",
      "text/plain": [
       "<Figure size 432x288 with 1 Axes>"
      ]
     },
     "metadata": {},
     "output_type": "display_data"
    }
   ],
   "source": [
    "plt.semilogy(eps,results)\n",
    "plt.xlabel('Log(step_width)')\n",
    "plt.ylabel('Relative error')\n",
    "plt.show()"
   ]
  },
  {
   "cell_type": "code",
   "execution_count": 43,
   "metadata": {},
   "outputs": [
    {
     "name": "stdout",
     "output_type": "stream",
     "text": [
      "65.7046487111\n"
     ]
    }
   ],
   "source": [
    "print(msr2)"
   ]
  },
  {
   "cell_type": "code",
   "execution_count": null,
   "metadata": {},
   "outputs": [],
   "source": []
  }
 ],
 "metadata": {
  "kernelspec": {
   "display_name": "Python 3",
   "language": "python",
   "name": "python3"
  },
  "language_info": {
   "codemirror_mode": {
    "name": "ipython",
    "version": 3
   },
   "file_extension": ".py",
   "mimetype": "text/x-python",
   "name": "python",
   "nbconvert_exporter": "python",
   "pygments_lexer": "ipython3",
   "version": "3.6.5"
  }
 },
 "nbformat": 4,
 "nbformat_minor": 2
}
