{
 "cells": [
  {
   "cell_type": "code",
   "execution_count": 63,
   "metadata": {},
   "outputs": [],
   "source": [
    "# after implementing new envelope misfit function,\n",
    "# would like to check gradient consistency\n",
    "# the testdata/testsrc setup could be used for that."
   ]
  },
  {
   "cell_type": "code",
   "execution_count": 110,
   "metadata": {},
   "outputs": [],
   "source": [
    "# what we need for preparation:\n",
    "# - compute the gradient for the input source\n",
    "# - have a vector of smaller and smaller steps\n",
    "# - have a random update to the model\n",
    "# - compute m0\n",
    "\n",
    "# what we do then for each step in the step vector:\n",
    "# - scale the random update by this step\n",
    "# - compute the model of the input plus the update\n",
    "# - get the misfit of that model output\n",
    "# - get the relative error between this misfit and m0\n",
    "# - record (step,relative error)"
   ]
  },
  {
   "cell_type": "code",
   "execution_count": 111,
   "metadata": {},
   "outputs": [],
   "source": [
    "import os\n",
    "import numpy as np\n",
    "from obspy import read\n",
    "from pandas import read_csv\n",
    "import h5py\n",
    "import matplotlib.pyplot as plt\n",
    "mtype = 'ln_sq_env'"
   ]
  },
  {
   "cell_type": "code",
   "execution_count": 112,
   "metadata": {},
   "outputs": [
    {
     "data": {
      "text/plain": [
       "0"
      ]
     },
     "execution_count": 112,
     "metadata": {},
     "output_type": "execute_result"
    }
   ],
   "source": [
    "# compute the gradient for the input model\n",
    "os.system('cp -R ../test/testdata/testsrc/wavefield_processed_archived/ \\\n",
    "          ../test/testdata/testsrc/wavefield_processed')\n",
    "os.system('cp ../test/testdata/testsrc/step_0/starting_model_archived.h5 \\\n",
    "          ../test/testdata/testsrc/step_0/starting_model.h5')\n",
    "os.mkdir('../test/testdata/testsrc/step_0/corr')\n",
    "os.mkdir('../test/testdata/testsrc/step_0/adjt')\n",
    "os.mkdir('../test/testdata/testsrc/step_0/kern')\n",
    "os.mkdir('../test/testdata/testsrc/step_0/grad')\n",
    "os.system('cp inputs/measr_config.json ../test/testdata/testsrc/')\n",
    "os.system('cp inputs/source_config.json ../test/testdata/testsrc/')\n",
    "os.system('cp inputs/config.json ../test/testdata/')"
   ]
  },
  {
   "cell_type": "code",
   "execution_count": 119,
   "metadata": {},
   "outputs": [
    {
     "data": {
      "text/plain": [
       "0"
      ]
     },
     "execution_count": 119,
     "metadata": {},
     "output_type": "execute_result"
    }
   ],
   "source": [
    "os.system('noisi correlation ../test/testdata/testsrc 0')\n",
    "### remove output after finishing"
   ]
  },
  {
   "cell_type": "code",
   "execution_count": 120,
   "metadata": {},
   "outputs": [
    {
     "name": "stdout",
     "output_type": "stream",
     "text": [
      "19965.493665\n"
     ]
    }
   ],
   "source": [
    "os.system('noisi measurement ../test/testdata/testsrc 0')\n",
    "m0 = read_csv('../test/testdata/testsrc/step_0/'+mtype+'.0.measurement.csv')['l2_norm'][0]\n",
    "print(m0)"
   ]
  },
  {
   "cell_type": "code",
   "execution_count": 123,
   "metadata": {},
   "outputs": [
    {
     "data": {
      "text/plain": [
       "0"
      ]
     },
     "execution_count": 123,
     "metadata": {},
     "output_type": "execute_result"
    }
   ],
   "source": [
    "os.system('noisi kernel ../test/testdata/testsrc 0')"
   ]
  },
  {
   "cell_type": "code",
   "execution_count": 124,
   "metadata": {},
   "outputs": [
    {
     "data": {
      "text/plain": [
       "0"
      ]
     },
     "execution_count": 124,
     "metadata": {},
     "output_type": "execute_result"
    }
   ],
   "source": [
    "os.system('noisi gradient ../test/testdata/testsrc 0')"
   ]
  },
  {
   "cell_type": "code",
   "execution_count": 125,
   "metadata": {},
   "outputs": [],
   "source": [
    "eps = np.arange(-5,2,1.)"
   ]
  },
  {
   "cell_type": "code",
   "execution_count": 126,
   "metadata": {
    "scrolled": true
   },
   "outputs": [
    {
     "name": "stdout",
     "output_type": "stream",
     "text": [
      "[[-26.12595458 -31.14133975  18.89273694 ...,  21.31754941   9.00650687\n",
      "  -14.97508895]]\n"
     ]
    }
   ],
   "source": [
    "grad = np.load('../test/testdata/testsrc/step_0/grad/grad_all.npy')\n",
    "print(grad)"
   ]
  },
  {
   "cell_type": "code",
   "execution_count": 127,
   "metadata": {},
   "outputs": [],
   "source": [
    "direction = (np.random.random((grad.shape))-0.5)"
   ]
  },
  {
   "cell_type": "code",
   "execution_count": 128,
   "metadata": {},
   "outputs": [
    {
     "name": "stdout",
     "output_type": "stream",
     "text": [
      "[ 2602292.10004121]\n"
     ]
    }
   ],
   "source": [
    "m_grad = np.dot(direction,np.transpose(grad))[0]\n",
    "print(m_grad)"
   ]
  },
  {
   "cell_type": "code",
   "execution_count": 129,
   "metadata": {},
   "outputs": [],
   "source": [
    "\n",
    "def get_misfit_from_direction(dvec):\n",
    "    os.system('rm ../test/testdata/testsrc/step_0/starting_model.h5')\n",
    "    \n",
    "    os.system('cp ../test/testdata/testsrc/step_0/starting_model_archived.h5 \\\n",
    "          ../test/testdata/testsrc/step_0/starting_model.h5')\n",
    "    f = h5py.File('../test/testdata/testsrc/step_0/starting_model.h5','a')\n",
    "    \n",
    "    f['distr_basis'][:] += dvec\n",
    "    f.close()\n",
    "\n",
    "    \n",
    "    os.system('rm ../test/testdata/testsrc/step_0/corr/\\\n",
    "NET.STA1..CHA--NET.STA2..CHA.sac')\n",
    "    \n",
    "    os.system('rm ../test/testdata/testsrc/step_0/'+\n",
    "              mtype+'.0.measurement.csv')\n",
    "    \n",
    "    os.system('noisi correlation ../test/testdata/testsrc 0')\n",
    "    tr = read('../test/testdata/testsrc/step_0/corr/*')\n",
    "    corr = tr[0].data\n",
    "    os.system('noisi measurement ../test/testdata/testsrc 0')\n",
    "    msr = read_csv('../test/testdata/testsrc/step_0/'+\n",
    "                   mtype+'.0.measurement.csv')\n",
    "    msr = msr['l2_norm'][0]\n",
    "    \n",
    "    return(msr,corr)\n",
    "    \n",
    "    \n",
    "    "
   ]
  },
  {
   "cell_type": "code",
   "execution_count": null,
   "metadata": {
    "scrolled": false
   },
   "outputs": [
    {
     "name": "stdout",
     "output_type": "stream",
     "text": [
      "0\n",
      "1965196.67278\n",
      "0.244820874357\n",
      "1\n"
     ]
    }
   ],
   "source": [
    "results = np.zeros(len(eps))\n",
    "mf_a = np.zeros(len(eps))\n",
    "plt.figure\n",
    "for i in range(len(eps)):\n",
    "    print(i)\n",
    "    val = 10**eps[i]\n",
    "    msr1,corr = get_misfit_from_direction(val*direction)\n",
    "    msr2,corr2 = get_misfit_from_direction(-val*direction)\n",
    "    mf_approx = 1./(2.*val)*(msr1-msr2)\n",
    "    print(mf_approx)\n",
    "    results[i] = np.abs(m_grad-mf_approx)/np.abs(m_grad)\n",
    "    mf_a[i] = mf_approx\n",
    "    print(results[i])\n",
    "    plt.plot(corr)\n",
    "\n",
    "plt.show()\n",
    "plt.semilogy(eps,results)\n",
    "plt.show()"
   ]
  },
  {
   "cell_type": "code",
   "execution_count": 109,
   "metadata": {},
   "outputs": [
    {
     "data": {
      "text/plain": [
       "0"
      ]
     },
     "execution_count": 109,
     "metadata": {},
     "output_type": "execute_result"
    }
   ],
   "source": [
    "# removing copied files...\n",
    "os.system('rm -rf ../test/testdata/testsrc/wavefield_processed')\n",
    "os.system('rm ../test/testdata/testsrc/step_0/starting_model.h5')\n",
    "os.system('rm -rf ../test/testdata/testsrc/step_0/corr')\n",
    "os.system('rm -rf ../test/testdata/testsrc/step_0/adjt')\n",
    "os.system('rm -rf ../test/testdata/testsrc/step_0/kern')\n",
    "os.system('rm -rf ../test/testdata/testsrc/step_0/grad')\n",
    "os.system('rm ../test/testdata/testsrc/measr_config.json')\n",
    "os.system('rm ../test/testdata/testsrc/source_config.json')\n",
    "os.system('rm ../test/testdata/config.json')"
   ]
  },
  {
   "cell_type": "code",
   "execution_count": 97,
   "metadata": {},
   "outputs": [
    {
     "data": {
      "image/png": "[encoded data removed]",
      "text/plain": [
       "<Figure size 432x288 with 1 Axes>"
      ]
     },
     "metadata": {},
     "output_type": "display_data"
    }
   ],
   "source": [
    "plt.semilogy(eps,results)\n",
    "plt.xlabel('Log(step_width)')\n",
    "plt.ylabel('Relative error')\n",
    "plt.show()"
   ]
  },
  {
   "cell_type": "code",
   "execution_count": 19,
   "metadata": {},
   "outputs": [
    {
     "name": "stdout",
     "output_type": "stream",
     "text": [
      "37751.3285963\n"
     ]
    }
   ],
   "source": [
    "print(msr2)"
   ]
  },
  {
   "cell_type": "code",
   "execution_count": null,
   "metadata": {},
   "outputs": [],
   "source": []
  }
 ],
 "metadata": {
  "kernelspec": {
   "display_name": "Python 3",
   "language": "python",
   "name": "python3"
  },
  "language_info": {
   "codemirror_mode": {
    "name": "ipython",
    "version": 3
   },
   "file_extension": ".py",
   "mimetype": "text/x-python",
   "name": "python",
   "nbconvert_exporter": "python",
   "pygments_lexer": "ipython3",
   "version": "3.6.5"
  }
 },
 "nbformat": 4,
 "nbformat_minor": 2
}
