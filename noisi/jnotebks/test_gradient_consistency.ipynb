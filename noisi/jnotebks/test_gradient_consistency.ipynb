{
 "cells": [
  {
   "cell_type": "code",
   "execution_count": 1,
   "metadata": {},
   "outputs": [],
   "source": [
    "# after implementing new envelope misfit function,\n",
    "# would like to check gradient consistency\n",
    "# the testdata/testsrc setup could be used for that."
   ]
  },
  {
   "cell_type": "code",
   "execution_count": 91,
   "metadata": {},
   "outputs": [],
   "source": [
    "# what we need for preparation:\n",
    "# - compute the gradient for the input source\n",
    "# - have a vector of smaller and smaller steps\n",
    "# - have a random update to the model\n",
    "# - compute m0\n",
    "\n",
    "# what we do then for each step in the step vector:\n",
    "# - scale the random update by this step\n",
    "# - compute the model of the input plus the update\n",
    "# - get the misfit of that model output\n",
    "# - get the relative error between this misfit and m0\n",
    "# - record (step,relative error)"
   ]
  },
  {
   "cell_type": "code",
   "execution_count": 92,
   "metadata": {},
   "outputs": [],
   "source": [
    "import os\n",
    "import numpy as np\n",
    "from obspy import read\n",
    "from pandas import read_csv\n",
    "import h5py\n",
    "import matplotlib.pyplot as plt\n",
    "mtype = 'square_envelope'"
   ]
  },
  {
   "cell_type": "code",
   "execution_count": 93,
   "metadata": {},
   "outputs": [
    {
     "data": {
      "text/plain": [
       "0"
      ]
     },
     "execution_count": 93,
     "metadata": {},
     "output_type": "execute_result"
    }
   ],
   "source": [
    "# compute the gradient for the input model\n",
    "os.system('cp -R ../test/testdata/testsrc/wavefield_processed_archived/ \\\n",
    "          ../test/testdata/testsrc/wavefield_processed')\n",
    "#os.system('cp ../test/testdata/testsrc/step_0/starting_model_basis_archived.h5 \\\n",
    "#          ../test/testdata/testsrc/step_0/starting_model.h5')\n",
    "#os.system('cp ../test/testdata/testsrc/step_0/starting_model_basis_archived.h5 \\\n",
    "#          ../test/testdata/testsrc/step_0/base_model.h5')\n",
    "os.mkdir('../test/testdata/testsrc/step_0/corr')\n",
    "os.mkdir('../test/testdata/testsrc/step_0/adjt')\n",
    "os.mkdir('../test/testdata/testsrc/step_0/kern')\n",
    "os.mkdir('../test/testdata/testsrc/step_0/grad')\n",
    "os.system('cp inputs/measr_config.json ../test/testdata/testsrc/')\n",
    "os.system('cp inputs/source_config.json ../test/testdata/testsrc/')\n",
    "os.system('cp inputs/config.json ../test/testdata/')"
   ]
  },
  {
   "cell_type": "code",
   "execution_count": 94,
   "metadata": {},
   "outputs": [
    {
     "data": {
      "text/plain": [
       "0"
      ]
     },
     "execution_count": 94,
     "metadata": {},
     "output_type": "execute_result"
    }
   ],
   "source": [
    "os.system('noisi correlation ../test/testdata/testsrc 0')\n",
    "### remove output after finishing"
   ]
  },
  {
   "cell_type": "code",
   "execution_count": 95,
   "metadata": {},
   "outputs": [
    {
     "name": "stdout",
     "output_type": "stream",
     "text": [
      "1296.22498076\n"
     ]
    }
   ],
   "source": [
    "os.system('noisi measurement ../test/testdata/testsrc 0')\n",
    "m0 = read_csv('../test/testdata/testsrc/step_0/'+mtype+'.0.measurement.csv')['l2_norm'][0]\n",
    "print(m0)"
   ]
  },
  {
   "cell_type": "code",
   "execution_count": 96,
   "metadata": {},
   "outputs": [
    {
     "data": {
      "text/plain": [
       "0"
      ]
     },
     "execution_count": 96,
     "metadata": {},
     "output_type": "execute_result"
    }
   ],
   "source": [
    "os.system('noisi kernel ../test/testdata/testsrc 0')"
   ]
  },
  {
   "cell_type": "code",
   "execution_count": 66,
   "metadata": {},
   "outputs": [],
   "source": [
    "#os.system('noisi gradient ../test/testdata/testsrc 0')"
   ]
  },
  {
   "cell_type": "code",
   "execution_count": 105,
   "metadata": {},
   "outputs": [],
   "source": [
    "eps = np.arange(-4,2,0.2)"
   ]
  },
  {
   "cell_type": "code",
   "execution_count": 98,
   "metadata": {
    "scrolled": true
   },
   "outputs": [
    {
     "name": "stdout",
     "output_type": "stream",
     "text": [
      "(2025, 1800)\n"
     ]
    }
   ],
   "source": [
    "grad = np.load('../test/testdata/testsrc/step_0/kern/NET.STA1..CHA--NET.STA2..CHA.0.npy')\n",
    "\n",
    "grad = grad[:,0,:] \n",
    "print(grad.shape)"
   ]
  },
  {
   "cell_type": "code",
   "execution_count": 99,
   "metadata": {},
   "outputs": [],
   "source": [
    "#direction = np.zeros(grad.shape)\n",
    "#direction[:,0] = (np.random.random(grad[:,0].shape)-0.5)#(np.random.random((grad[:,0].shape))-0.5)\n",
    "direction = (np.random.random(grad.shape)-0.5)#(np.random.random((grad[:,0].shape))-0.5)\n"
   ]
  },
  {
   "cell_type": "code",
   "execution_count": 100,
   "metadata": {},
   "outputs": [
    {
     "name": "stdout",
     "output_type": "stream",
     "text": [
      "-16.8202321796\n"
     ]
    }
   ],
   "source": [
    "#from noisi import BasisFunction\n",
    "#b = BasisFunction('sine_taper',3601,3601)\n",
    "# grad_expanded = np.zeros(grad.shape)\n",
    "# direction_expanded = np.zeros(direction.shape)\n",
    "# for i in range(2025):\n",
    "#     grad_expanded[i,:] = b.expand(grad[i,:])\n",
    "#     direction_expanded[i,:] = b.expand(direction[i,:])\n",
    "\n",
    "# m_grad = np.sum(grad_expanded*direction_expanded)\n",
    "m_grad = np.sum(direction*grad)\n",
    "print(m_grad)"
   ]
  },
  {
   "cell_type": "code",
   "execution_count": null,
   "metadata": {},
   "outputs": [],
   "source": []
  },
  {
   "cell_type": "code",
   "execution_count": 106,
   "metadata": {},
   "outputs": [],
   "source": [
    "\n",
    "def get_misfit_from_direction(dvec):\n",
    "    os.system('rm ../test/testdata/testsrc/step_0/starting_model.h5')\n",
    "    \n",
    "    os.system('cp ../test/testdata/testsrc/step_0/starting_model_basis_archived.h5 \\\n",
    "          ../test/testdata/testsrc/step_0/starting_model.h5')\n",
    "    f = h5py.File('../test/testdata/testsrc/step_0/starting_model.h5','a')\n",
    "    \n",
    "    f['model'][:] += dvec\n",
    "    f.close()\n",
    "\n",
    "    \n",
    "    os.system('rm ../test/testdata/testsrc/step_0/corr/\\\n",
    "NET.STA1..CHA--NET.STA2..CHA.sac')\n",
    "    \n",
    "    os.system('rm ../test/testdata/testsrc/step_0/'+\n",
    "              mtype+'.0.measurement.csv')\n",
    "    \n",
    "    os.system('noisi correlation ../test/testdata/testsrc 0')\n",
    "    \n",
    "\n",
    "    os.system('noisi measurement ../test/testdata/testsrc 0')\n",
    "    msr = read_csv('../test/testdata/testsrc/step_0/'+\n",
    "                   mtype+'.0.measurement.csv')\n",
    "    msr = msr['l2_norm'][0]\n",
    "    \n",
    "    return(msr)\n",
    "    \n",
    "    \n",
    "    "
   ]
  },
  {
   "cell_type": "code",
   "execution_count": null,
   "metadata": {},
   "outputs": [],
   "source": []
  },
  {
   "cell_type": "code",
   "execution_count": 107,
   "metadata": {
    "scrolled": false
   },
   "outputs": [
    {
     "name": "stdout",
     "output_type": "stream",
     "text": [
      "-4.0\n",
      "-17.061076519\n",
      "0.0143187285885\n",
      "-3.8\n",
      "-18.1416237035\n",
      "0.0785596482725\n",
      "-3.6\n",
      "-17.4522988881\n",
      "0.0375777635962\n",
      "-3.4\n",
      "-17.0176388597\n",
      "0.0117362636848\n",
      "-3.2\n",
      "-16.5583419395\n",
      "0.0155699539302\n",
      "-3.0\n",
      "-16.7395722334\n",
      "0.00479541217642\n",
      "-2.8\n",
      "-16.8501238976\n",
      "0.00177712873829\n",
      "-2.6\n",
      "-16.8328288396\n",
      "0.000748899294\n",
      "-2.4\n",
      "-16.7919324676\n",
      "0.00168248046332\n",
      "-2.2\n",
      "-16.835910606\n",
      "0.000932117118577\n",
      "-2.0\n",
      "-16.8127149605\n",
      "0.000446915300778\n",
      "-1.8\n",
      "-16.8244562859\n",
      "0.000251132458781\n",
      "-1.6\n",
      "-16.8289580189\n",
      "0.000518770442141\n",
      "-1.4\n",
      "-16.8214600431\n",
      "7.29992008991e-05\n",
      "-1.2\n",
      "-16.8200922821\n",
      "8.31721538012e-06\n",
      "-1.0\n",
      "-16.8201344261\n",
      "5.81166263933e-06\n",
      "-0.8\n",
      "-16.8225935148\n",
      "0.000140386599689\n",
      "-0.6\n",
      "-16.8204447772\n",
      "1.26393949038e-05\n",
      "-0.4\n",
      "-16.821066251\n",
      "4.95873892312e-05\n",
      "-0.2\n",
      "-16.8211256772\n",
      "5.31204069384e-05\n",
      "3.5527136788e-15\n",
      "-16.8227640205\n",
      "0.000150523540782\n",
      "0.2\n",
      "-16.8268340131\n",
      "0.000392493600995\n",
      "0.4\n",
      "-16.8369577437\n",
      "0.000994371774676\n",
      "0.6\n",
      "-16.8621886799\n",
      "0.00249440672375\n",
      "0.8\n",
      "-16.9256062985\n",
      "0.0062647243986\n",
      "1.0\n",
      "-17.084885362\n",
      "0.0157342169595\n",
      "1.2\n",
      "-17.4849705656\n",
      "0.0395201670764\n",
      "1.4\n",
      "-18.4899603701\n",
      "0.0992690334255\n",
      "1.6\n",
      "-21.0144079777\n",
      "0.24935302636\n",
      "1.8\n",
      "-27.355526026\n",
      "0.626346517333\n"
     ]
    },
    {
     "data": {
      "image/png": "[encoded data removed]",
      "text/plain": [
       "<Figure size 432x288 with 1 Axes>"
      ]
     },
     "metadata": {},
     "output_type": "display_data"
    }
   ],
   "source": [
    "results = np.zeros(len(eps))\n",
    "mf_a = np.zeros(len(eps))\n",
    "plt.figure\n",
    "for i in range(len(eps)):\n",
    "    print(eps[i])\n",
    "    val = 10**eps[i]\n",
    "    msr1 = get_misfit_from_direction(val*direction)\n",
    "    msr2 = get_misfit_from_direction(-val*direction)\n",
    "    mf_approx = 1./(2.*val)*(msr1-msr2)\n",
    "    print(mf_approx)\n",
    "    results[i] = np.abs(m_grad-mf_approx)/np.abs(m_grad)\n",
    "    mf_a[i] = mf_approx\n",
    "    print(results[i])\n",
    "\n",
    "\n",
    "plt.semilogy(eps,results)\n",
    "plt.show()"
   ]
  },
  {
   "cell_type": "code",
   "execution_count": 108,
   "metadata": {},
   "outputs": [
    {
     "data": {
      "text/plain": [
       "0"
      ]
     },
     "execution_count": 108,
     "metadata": {},
     "output_type": "execute_result"
    }
   ],
   "source": [
    "# removing copied files...\n",
    "os.system('rm -rf ../test/testdata/testsrc/wavefield_processed')\n",
    "os.system('rm ../test/testdata/testsrc/step_0/starting_model.h5')\n",
    "os.system('rm -rf ../test/testdata/testsrc/step_0/corr')\n",
    "os.system('rm -rf ../test/testdata/testsrc/step_0/adjt')\n",
    "os.system('rm -rf ../test/testdata/testsrc/step_0/kern')\n",
    "os.system('rm -rf ../test/testdata/testsrc/step_0/grad')\n",
    "os.system('rm ../test/testdata/testsrc/measr_config.json')\n",
    "os.system('rm ../test/testdata/testsrc/source_config.json')\n",
    "os.system('rm ../test/testdata/config.json')"
   ]
  },
  {
   "cell_type": "code",
   "execution_count": 109,
   "metadata": {},
   "outputs": [
    {
     "data": {
      "image/png": "[encoded data removed]",
      "text/plain": [
       "<Figure size 432x288 with 1 Axes>"
      ]
     },
     "metadata": {},
     "output_type": "display_data"
    }
   ],
   "source": [
    "plt.semilogy(eps,results)\n",
    "plt.xlabel('Log(step_width)')\n",
    "plt.ylabel('Relative error')\n",
    "plt.show()"
   ]
  },
  {
   "cell_type": "code",
   "execution_count": 26,
   "metadata": {},
   "outputs": [
    {
     "data": {
      "text/plain": [
       "7200.6654567453115"
      ]
     },
     "execution_count": 26,
     "metadata": {},
     "output_type": "execute_result"
    }
   ],
   "source": [
    "23805.4/3.306\n",
    "\n"
   ]
  },
  {
   "cell_type": "code",
   "execution_count": null,
   "metadata": {},
   "outputs": [],
   "source": []
  }
 ],
 "metadata": {
  "kernelspec": {
   "display_name": "Python 3",
   "language": "python",
   "name": "python3"
  },
  "language_info": {
   "codemirror_mode": {
    "name": "ipython",
    "version": 3
   },
   "file_extension": ".py",
   "mimetype": "text/x-python",
   "name": "python",
   "nbconvert_exporter": "python",
   "pygments_lexer": "ipython3",
   "version": "3.6.5"
  }
 },
 "nbformat": 4,
 "nbformat_minor": 2
}
