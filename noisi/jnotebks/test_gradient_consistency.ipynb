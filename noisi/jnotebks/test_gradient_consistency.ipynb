{
 "cells": [
  {
   "cell_type": "code",
   "execution_count": 1,
   "metadata": {},
   "outputs": [],
   "source": [
    "# after implementing new envelope misfit function,\n",
    "# would like to check gradient consistency\n",
    "# the testdata/testsrc setup could be used for that."
   ]
  },
  {
   "cell_type": "code",
   "execution_count": 25,
   "metadata": {},
   "outputs": [],
   "source": [
    "# what we need for preparation:\n",
    "# - compute the gradient for the input source\n",
    "# - have a vector of smaller and smaller steps\n",
    "# - have a random update to the model\n",
    "# - compute m0\n",
    "\n",
    "# what we do then for each step in the step vector:\n",
    "# - scale the random update by this step\n",
    "# - compute the model of the input plus the update\n",
    "# - get the misfit of that model output\n",
    "# - get the relative error between this misfit and m0\n",
    "# - record (step,relative error)"
   ]
  },
  {
   "cell_type": "code",
   "execution_count": 26,
   "metadata": {},
   "outputs": [],
   "source": [
    "import os\n",
    "import numpy as np\n",
    "from obspy import read\n",
    "from pandas import read_csv\n",
    "import h5py\n",
    "import matplotlib.pyplot as plt\n",
    "mtype = 'energy_diff'"
   ]
  },
  {
   "cell_type": "code",
   "execution_count": 27,
   "metadata": {},
   "outputs": [
    {
     "data": {
      "text/plain": [
       "0"
      ]
     },
     "execution_count": 27,
     "metadata": {},
     "output_type": "execute_result"
    }
   ],
   "source": [
    "# compute the gradient for the input model\n",
    "os.system('cp -R ../test/testdata/testsrc/wavefield_processed_archived/ \\\n",
    "          ../test/testdata/testsrc/wavefield_processed')\n",
    "os.system('cp ../test/testdata/testsrc/step_0/starting_model_archived.h5 \\\n",
    "          ../test/testdata/testsrc/step_0/starting_model.h5')\n",
    "os.mkdir('../test/testdata/testsrc/step_0/corr')\n",
    "os.mkdir('../test/testdata/testsrc/step_0/adjt')\n",
    "os.mkdir('../test/testdata/testsrc/step_0/kern')\n",
    "os.mkdir('../test/testdata/testsrc/step_0/grad')\n",
    "os.system('cp inputs/measr_config.json ../test/testdata/testsrc/')\n",
    "os.system('cp inputs/source_config.json ../test/testdata/testsrc/')\n",
    "os.system('cp inputs/config.json ../test/testdata/')"
   ]
  },
  {
   "cell_type": "code",
   "execution_count": 28,
   "metadata": {},
   "outputs": [
    {
     "data": {
      "text/plain": [
       "0"
      ]
     },
     "execution_count": 28,
     "metadata": {},
     "output_type": "execute_result"
    }
   ],
   "source": [
    "os.system('noisi correlation ../test/testdata/testsrc 0')\n",
    "### remove output after finishing\n",
    "os.system('cp ../test/testdata/testsrc/step_0/corr/NET.STA1..MXZ--NET.STA2..MXZ.sac \\\n",
    " ../test/testdata/testsrc/step_0/corr/NET.STA1..CHA--NET.STA2..CHA.sac')"
   ]
  },
  {
   "cell_type": "code",
   "execution_count": 29,
   "metadata": {},
   "outputs": [
    {
     "name": "stdout",
     "output_type": "stream",
     "text": [
      "747.957199193\n"
     ]
    }
   ],
   "source": [
    "os.system('noisi measurement ../test/testdata/testsrc 0')\n",
    "m0 = read_csv('../test/testdata/testsrc/step_0/'+mtype+'.0.measurement.csv')['l2_norm'][0]\n",
    "print(m0)"
   ]
  },
  {
   "cell_type": "code",
   "execution_count": 30,
   "metadata": {},
   "outputs": [
    {
     "data": {
      "text/plain": [
       "0"
      ]
     },
     "execution_count": 30,
     "metadata": {},
     "output_type": "execute_result"
    }
   ],
   "source": [
    "os.system('noisi kernel ../test/testdata/testsrc 0')"
   ]
  },
  {
   "cell_type": "code",
   "execution_count": 31,
   "metadata": {},
   "outputs": [
    {
     "data": {
      "text/plain": [
       "0"
      ]
     },
     "execution_count": 31,
     "metadata": {},
     "output_type": "execute_result"
    }
   ],
   "source": [
    "os.system('noisi gradient ../test/testdata/testsrc 0')"
   ]
  },
  {
   "cell_type": "code",
   "execution_count": 32,
   "metadata": {},
   "outputs": [],
   "source": [
    "eps = np.arange(-5,1.5,0.2)"
   ]
  },
  {
   "cell_type": "code",
   "execution_count": 33,
   "metadata": {
    "scrolled": true
   },
   "outputs": [
    {
     "name": "stdout",
     "output_type": "stream",
     "text": [
      "[[ 7.95420555  8.46952496  9.34841948 ...,  9.16548192  8.18748012\n",
      "   7.59011463]]\n"
     ]
    }
   ],
   "source": [
    "grad = np.load('../test/testdata/testsrc/step_0/grad/grad_all.npy')\n",
    "print(grad)"
   ]
  },
  {
   "cell_type": "code",
   "execution_count": 34,
   "metadata": {},
   "outputs": [],
   "source": [
    "direction = (np.random.random((grad.shape))-0.5)"
   ]
  },
  {
   "cell_type": "code",
   "execution_count": 35,
   "metadata": {},
   "outputs": [
    {
     "name": "stdout",
     "output_type": "stream",
     "text": [
      "[-23.98824612]\n"
     ]
    }
   ],
   "source": [
    "m_grad = np.dot(direction,np.transpose(grad))[0]\n",
    "print(m_grad)"
   ]
  },
  {
   "cell_type": "code",
   "execution_count": 36,
   "metadata": {},
   "outputs": [],
   "source": [
    "\n",
    "def get_misfit_from_direction(dvec):\n",
    "    os.system('rm ../test/testdata/testsrc/step_0/starting_model.h5')\n",
    "    \n",
    "    os.system('cp ../test/testdata/testsrc/step_0/starting_model_archived.h5 \\\n",
    "          ../test/testdata/testsrc/step_0/starting_model.h5')\n",
    "    f = h5py.File('../test/testdata/testsrc/step_0/starting_model.h5','a')\n",
    "    \n",
    "    f['distr_basis'][:] += dvec\n",
    "    f.close()\n",
    "\n",
    "    \n",
    "    os.system('rm ../test/testdata/testsrc/step_0/corr/\\\n",
    "NET.STA1..CHA--NET.STA2..CHA.sac')\n",
    "    \n",
    "    os.system('rm ../test/testdata/testsrc/step_0/'+\n",
    "              mtype+'.0.measurement.csv')\n",
    "    \n",
    "    os.system('noisi correlation ../test/testdata/testsrc 0')\n",
    "    os.system('cp ../test/testdata/testsrc/step_0/corr/NET.STA1..MXZ--NET.STA2..MXZ.sac \\\n",
    " ../test/testdata/testsrc/step_0/corr/NET.STA1..CHA--NET.STA2..CHA.sac')\n",
    "    \n",
    "    tr = read('../test/testdata/testsrc/step_0/corr/*')\n",
    "    corr = tr[0].data\n",
    "    os.system('noisi measurement ../test/testdata/testsrc 0')\n",
    "    msr = read_csv('../test/testdata/testsrc/step_0/'+\n",
    "                   mtype+'.0.measurement.csv')\n",
    "    msr = msr['l2_norm'][0]\n",
    "    \n",
    "    return(msr,corr)\n",
    "    \n",
    "    \n",
    "    "
   ]
  },
  {
   "cell_type": "code",
   "execution_count": 37,
   "metadata": {
    "scrolled": false
   },
   "outputs": [
    {
     "name": "stdout",
     "output_type": "stream",
     "text": [
      "0\n",
      "-23.4575287664\n",
      "0.0221240582708\n",
      "1\n",
      "-23.2426465831\n",
      "0.0310818696169\n",
      "2\n",
      "-23.4622654583\n",
      "0.0219265994016\n",
      "3\n",
      "-23.9873163214\n",
      "3.87606495548e-05\n",
      "4\n",
      "-23.8522860729\n",
      "0.00566777778447\n",
      "5\n",
      "-23.9442264456\n",
      "0.00183505186554\n",
      "6\n",
      "-23.937327902\n",
      "0.0021226320223\n",
      "7\n",
      "-24.002360767\n",
      "0.000588398399976\n",
      "8\n",
      "-24.0261939677\n",
      "0.00158193500934\n",
      "9\n",
      "-23.9517968904\n",
      "0.00151946210496\n",
      "10\n",
      "-24.0081710321\n",
      "0.000830611399828\n",
      "11\n",
      "-23.9885373071\n",
      "1.21386822957e-05\n",
      "12\n",
      "-23.9922273289\n",
      "0.000165964926848\n",
      "13\n",
      "-23.9901566292\n",
      "7.96435003867e-05\n",
      "14\n",
      "-23.9878240349\n",
      "1.75955529439e-05\n",
      "15\n",
      "-23.9888419505\n",
      "2.48383774504e-05\n",
      "16\n",
      "-23.9870077275\n",
      "5.16250260813e-05\n",
      "17\n",
      "-23.9874146828\n",
      "3.46602485799e-05\n",
      "18\n",
      "-23.9889114781\n",
      "2.77367829973e-05\n",
      "19\n",
      "-23.9880058922\n",
      "1.00144509421e-05\n",
      "20\n",
      "-23.9888785753\n",
      "2.63651592604e-05\n",
      "21\n",
      "-23.9893277233\n",
      "4.50888293002e-05\n",
      "22\n",
      "-23.9911251052\n",
      "0.00012001643672\n",
      "23\n",
      "-23.995731291\n",
      "0.000312034884553\n",
      "24\n",
      "-24.0069922497\n",
      "0.00078147140185\n",
      "25\n",
      "-24.0353652692\n",
      "0.00196425981175\n",
      "26\n",
      "-24.1065718713\n",
      "0.00493265532238\n",
      "27\n",
      "-24.2854742451\n",
      "0.0123905733768\n",
      "28\n",
      "-24.7348721755\n",
      "0.0311246620673\n",
      "29\n",
      "-25.8637091395\n",
      "0.0781825819463\n",
      "30\n",
      "-28.699190101\n",
      "0.196385511294\n",
      "31\n",
      "-35.8216080459\n",
      "0.493298337224\n",
      "32\n",
      "-53.7122997845\n",
      "1.23910908337\n"
     ]
    },
    {
     "data": {
      "image/png": "[encoded data removed]",
      "text/plain": [
       "<Figure size 432x288 with 1 Axes>"
      ]
     },
     "metadata": {},
     "output_type": "display_data"
    },
    {
     "data": {
      "image/png": "[encoded data removed]",
      "text/plain": [
       "<Figure size 432x288 with 1 Axes>"
      ]
     },
     "metadata": {},
     "output_type": "display_data"
    }
   ],
   "source": [
    "results = np.zeros(len(eps))\n",
    "mf_a = np.zeros(len(eps))\n",
    "plt.figure\n",
    "for i in range(len(eps)):\n",
    "    print(i)\n",
    "    val = 10**eps[i]\n",
    "    msr1,corr = get_misfit_from_direction(val*direction)\n",
    "    msr2,corr2 = get_misfit_from_direction(-val*direction)\n",
    "    mf_approx = 1./(2.*val)*(msr1-msr2)\n",
    "    print(mf_approx)\n",
    "    results[i] = np.abs(m_grad-mf_approx)/np.abs(m_grad)\n",
    "    mf_a[i] = mf_approx\n",
    "    print(results[i])\n",
    "    plt.plot(corr)\n",
    "\n",
    "plt.show()\n",
    "plt.semilogy(eps,results)\n",
    "plt.show()"
   ]
  },
  {
   "cell_type": "code",
   "execution_count": 38,
   "metadata": {},
   "outputs": [
    {
     "data": {
      "text/plain": [
       "0"
      ]
     },
     "execution_count": 38,
     "metadata": {},
     "output_type": "execute_result"
    }
   ],
   "source": [
    "# removing copied files...\n",
    "os.system('rm -rf ../test/testdata/testsrc/wavefield_processed')\n",
    "os.system('rm ../test/testdata/testsrc/step_0/starting_model.h5')\n",
    "os.system('rm -rf ../test/testdata/testsrc/step_0/corr')\n",
    "os.system('rm -rf ../test/testdata/testsrc/step_0/adjt')\n",
    "os.system('rm -rf ../test/testdata/testsrc/step_0/kern')\n",
    "os.system('rm -rf ../test/testdata/testsrc/step_0/grad')\n",
    "os.system('rm ../test/testdata/testsrc/measr_config.json')\n",
    "os.system('rm ../test/testdata/testsrc/source_config.json')\n",
    "os.system('rm ../test/testdata/config.json')"
   ]
  },
  {
   "cell_type": "code",
   "execution_count": 39,
   "metadata": {},
   "outputs": [
    {
     "data": {
      "image/png": "[encoded data removed]",
      "text/plain": [
       "<Figure size 432x288 with 1 Axes>"
      ]
     },
     "metadata": {},
     "output_type": "display_data"
    }
   ],
   "source": [
    "plt.semilogy(eps,results)\n",
    "plt.xlabel('Log(step_width)')\n",
    "plt.ylabel('Relative error')\n",
    "plt.show()"
   ]
  },
  {
   "cell_type": "code",
   "execution_count": 19,
   "metadata": {},
   "outputs": [
    {
     "name": "stdout",
     "output_type": "stream",
     "text": [
      "37751.3285963\n"
     ]
    }
   ],
   "source": [
    "print(msr2)"
   ]
  },
  {
   "cell_type": "code",
   "execution_count": null,
   "metadata": {},
   "outputs": [],
   "source": []
  }
 ],
 "metadata": {
  "kernelspec": {
   "display_name": "Python 3",
   "language": "python",
   "name": "python3"
  },
  "language_info": {
   "codemirror_mode": {
    "name": "ipython",
    "version": 3
   },
   "file_extension": ".py",
   "mimetype": "text/x-python",
   "name": "python",
   "nbconvert_exporter": "python",
   "pygments_lexer": "ipython3",
   "version": "3.6.5"
  }
 },
 "nbformat": 4,
 "nbformat_minor": 2
}
