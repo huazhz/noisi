{
 "cells": [
  {
   "cell_type": "code",
   "execution_count": 1,
   "metadata": {},
   "outputs": [],
   "source": [
    "# after implementing new envelope misfit function,\n",
    "# would like to check gradient consistency\n",
    "# the testdata/testsrc setup could be used for that."
   ]
  },
  {
   "cell_type": "code",
   "execution_count": 2,
   "metadata": {},
   "outputs": [],
   "source": [
    "# what we need for preparation:\n",
    "# - compute the gradient for the input source\n",
    "# - have a vector of smaller and smaller steps\n",
    "# - have a random update to the model\n",
    "# - compute m0\n",
    "\n",
    "# what we do then for each step in the step vector:\n",
    "# - scale the random update by this step\n",
    "# - compute the model of the input plus the update\n",
    "# - get the misfit of that model output\n",
    "# - get the relative error between this misfit and m0\n",
    "# - record (step,relative error)"
   ]
  },
  {
   "cell_type": "code",
   "execution_count": 3,
   "metadata": {},
   "outputs": [
    {
     "name": "stdout",
     "output_type": "stream",
     "text": [
      "================================================================================\n",
      "NOISI toolkit\n",
      "Python version: 3.6.5 | packaged by conda-forge | (default, Apr  6 2018, 13:39:56) \n",
      "[GCC 4.8.2 20140120 (Red Hat 4.8.2-15)]\n",
      "mpi4py version: 3.0.0\n",
      "/home/lermert/code/noisi/noisi\n",
      "================================================================================\n"
     ]
    }
   ],
   "source": [
    "import os\n",
    "import numpy as np\n",
    "from obspy import read\n",
    "from pandas import read_csv\n",
    "import h5py\n",
    "from noisi import BasisFunction\n",
    "import matplotlib.pyplot as plt\n",
    "mtype = 'square_envelope'"
   ]
  },
  {
   "cell_type": "code",
   "execution_count": 4,
   "metadata": {},
   "outputs": [],
   "source": [
    "# compute the gradient for the input model\n",
    "# os.system('cp -R ../test/testdata/testsrc/wavefield_processed_archived/ \\\n",
    "#           ../test/testdata/testsrc/wavefield_processed')\n",
    "# os.system('cp ../test/testdata/testsrc/step_0/starting_model_archived.h5 \\\n",
    "#           ../test/testdata/testsrc/step_0/starting_model.h5')\n",
    "# os.mkdir('../test/testdata/testsrc/step_0/corr')\n",
    "# os.mkdir('../test/testdata/testsrc/step_0/adjt')\n",
    "# os.mkdir('../test/testdata/testsrc/step_0/kern')\n",
    "# os.mkdir('../test/testdata/testsrc/step_0/grad')\n",
    "# os.system('cp inputs/measr_config.json ../test/testdata/testsrc/')\n",
    "# os.system('cp inputs/source_config.json ../test/testdata/testsrc/')\n",
    "# os.system('cp inputs/config.json ../test/testdata/')\n",
    "dir = '/home/lermert/Desktop/noisi_improvements/devnoisi/src'"
   ]
  },
  {
   "cell_type": "code",
   "execution_count": 5,
   "metadata": {},
   "outputs": [
    {
     "data": {
      "text/plain": [
       "0"
      ]
     },
     "execution_count": 5,
     "metadata": {},
     "output_type": "execute_result"
    }
   ],
   "source": [
    "os.system('noisi correlation '+dir+' 0')\n",
    "### remove output after finishing"
   ]
  },
  {
   "cell_type": "code",
   "execution_count": 6,
   "metadata": {},
   "outputs": [
    {
     "name": "stdout",
     "output_type": "stream",
     "text": [
      "6.42824891922e+28\n"
     ]
    }
   ],
   "source": [
    "os.system('noisi measurement '+dir+' 0')\n",
    "m0 = read_csv(dir+'/step_0/'+mtype+'.0.measurement.csv')['l2_norm'][0]\n",
    "\n",
    "\n",
    "print(m0)"
   ]
  },
  {
   "cell_type": "code",
   "execution_count": 7,
   "metadata": {},
   "outputs": [
    {
     "data": {
      "text/plain": [
       "0"
      ]
     },
     "execution_count": 7,
     "metadata": {},
     "output_type": "execute_result"
    }
   ],
   "source": [
    "os.system('noisi kernel '+dir+' 0') # effectively get the gradient for a 1-measurement-dataset"
   ]
  },
  {
   "cell_type": "code",
   "execution_count": null,
   "metadata": {},
   "outputs": [],
   "source": []
  },
  {
   "cell_type": "code",
   "execution_count": 8,
   "metadata": {},
   "outputs": [],
   "source": [
    "eps = np.arange(-4,1.5,1)"
   ]
  },
  {
   "cell_type": "code",
   "execution_count": 9,
   "metadata": {
    "scrolled": true
   },
   "outputs": [
    {
     "name": "stdout",
     "output_type": "stream",
     "text": [
      "(24764, 1)\n"
     ]
    }
   ],
   "source": [
    "grad = np.load(dir+'/step_0/kern/BO.IZH..MXZ--BO.KMT..MXZ.0.npy')\n",
    "grad=grad.sum(axis=1)\n",
    "print(grad.shape)\n",
    "direction = (np.random.random((grad.shape))-0.5)\n",
    "\n",
    "grad += direction\n",
    "\n",
    "b = BasisFunction('sine_taper',grad.shape[-1])\n",
    "grad_expanded = np.zeros(grad.shape[0])\n",
    "for i in range(grad.shape[0]):\n",
    "    grad_expanded[i] = np.sum(b.expand(grad[i,:],3889))\n"
   ]
  },
  {
   "cell_type": "code",
   "execution_count": 10,
   "metadata": {},
   "outputs": [
    {
     "name": "stdout",
     "output_type": "stream",
     "text": [
      "7.42391659676e+26\n"
     ]
    }
   ],
   "source": [
    "m_grad = np.sum((grad_expanded))\n",
    "print(m_grad)\n"
   ]
  },
  {
   "cell_type": "code",
   "execution_count": 11,
   "metadata": {},
   "outputs": [],
   "source": [
    "\n",
    "def get_misfit_from_direction(dvec):\n",
    "    os.system('rm '+dir+'/step_0/starting_model.h5')\n",
    "    \n",
    "    os.system('cp '+dir+'/step_0/starting_model_archived.h5 '+dir+\n",
    "              '/step_0/starting_model.h5')\n",
    "    f = h5py.File(dir+'/step_0/starting_model.h5','a')\n",
    "    \n",
    "    f['model'][:] += dvec\n",
    "    f.close()\n",
    "\n",
    "    \n",
    "    os.system('rm '+dir+'/step_0/corr/*.sac')\n",
    "    \n",
    "    os.system('rm '+dir+'/step_0/'+\n",
    "              mtype+'.0.measurement.csv')\n",
    "    \n",
    "    os.system('noisi correlation '+dir+' 0')\n",
    "    #tr = read(dir+'/step_0/corr/*.sac')\n",
    "    #corr = tr[0].data\n",
    "    os.system('noisi measurement '+dir+' 0')\n",
    "    msr = read_csv(dir+'/step_0/'+\n",
    "                   mtype+'.0.measurement.csv')\n",
    "    msr = msr['l2_norm'][0]\n",
    "    \n",
    "    return(msr)\n",
    "    \n",
    "    \n",
    "    "
   ]
  },
  {
   "cell_type": "code",
   "execution_count": 12,
   "metadata": {
    "scrolled": true
   },
   "outputs": [
    {
     "name": "stdout",
     "output_type": "stream",
     "text": [
      "0\n",
      "9.11059722706e+25\n",
      "0.877280447479\n",
      "1\n",
      "1.03257873341e+26\n",
      "0.860911862364\n",
      "2\n",
      "9.68626910757e+25\n",
      "0.869526159389\n",
      "3\n",
      "9.66328096298e+25\n",
      "0.869835809211\n",
      "4\n",
      "9.66014925821e+25\n",
      "0.869877993209\n",
      "5\n",
      "9.66290098362e+25\n",
      "0.869840927525\n"
     ]
    },
    {
     "data": {
      "image/png": "[encoded data removed]",
      "text/plain": [
       "<Figure size 432x288 with 1 Axes>"
      ]
     },
     "metadata": {},
     "output_type": "display_data"
    }
   ],
   "source": [
    "results = np.zeros(len(eps))\n",
    "mf_a = np.zeros(len(eps))\n",
    "plt.figure\n",
    "for i in range(len(eps)):\n",
    "    print(i)\n",
    "    val = 10**eps[i]\n",
    "    msr1 = get_misfit_from_direction(val*direction)\n",
    "    msr2 = get_misfit_from_direction(-val*direction)\n",
    "    mf_approx = 1./(2.*val)*(msr1-msr2)\n",
    "    print(mf_approx)\n",
    "    results[i] = np.abs(m_grad-mf_approx)/np.abs(m_grad)\n",
    "    mf_a[i] = mf_approx\n",
    "    print(results[i])\n",
    "    #plt.plot(corr)\n",
    "\n",
    "plt.show()\n",
    "plt.semilogy(eps,results)\n",
    "plt.show()"
   ]
  },
  {
   "cell_type": "code",
   "execution_count": 61,
   "metadata": {},
   "outputs": [
    {
     "data": {
      "text/plain": [
       "0"
      ]
     },
     "execution_count": 61,
     "metadata": {},
     "output_type": "execute_result"
    }
   ],
   "source": [
    "# removing copied files...\n",
    "# os.system('rm -rf ../test/testdata/testsrc/wavefield_processed')\n",
    "# os.system('rm ../test/testdata/testsrc/step_0/starting_model.h5')\n",
    "# os.system('rm -rf ../test/testdata/testsrc/step_0/corr')\n",
    "# os.system('rm -rf ../test/testdata/testsrc/step_0/adjt')\n",
    "# os.system('rm -rf ../test/testdata/testsrc/step_0/kern')\n",
    "# os.system('rm -rf ../test/testdata/testsrc/step_0/grad')\n",
    "# os.system('rm ../test/testdata/testsrc/measr_config.json')\n",
    "# os.system('rm ../test/testdata/testsrc/source_config.json')\n",
    "# os.system('rm ../test/testdata/config.json')"
   ]
  },
  {
   "cell_type": "code",
   "execution_count": 14,
   "metadata": {},
   "outputs": [
    {
     "data": {
      "image/png": "[encoded data removed]",
      "text/plain": [
       "<Figure size 432x288 with 1 Axes>"
      ]
     },
     "metadata": {},
     "output_type": "display_data"
    }
   ],
   "source": [
    "plt.semilogy(eps,results)\n",
    "plt.xlabel('Log(step_width)')\n",
    "plt.ylabel('Relative error')\n",
    "plt.show()"
   ]
  },
  {
   "cell_type": "code",
   "execution_count": 13,
   "metadata": {},
   "outputs": [
    {
     "data": {
      "text/plain": [
       "7.685095124643687"
      ]
     },
     "execution_count": 13,
     "metadata": {},
     "output_type": "execute_result"
    }
   ],
   "source": [
    "7.42391659676e+26 / 9.66014925821e+25\n"
   ]
  },
  {
   "cell_type": "code",
   "execution_count": null,
   "metadata": {},
   "outputs": [],
   "source": []
  }
 ],
 "metadata": {
  "kernelspec": {
   "display_name": "Python 3",
   "language": "python",
   "name": "python3"
  },
  "language_info": {
   "codemirror_mode": {
    "name": "ipython",
    "version": 3
   },
   "file_extension": ".py",
   "mimetype": "text/x-python",
   "name": "python",
   "nbconvert_exporter": "python",
   "pygments_lexer": "ipython3",
   "version": "3.6.5"
  }
 },
 "nbformat": 4,
 "nbformat_minor": 2
}
