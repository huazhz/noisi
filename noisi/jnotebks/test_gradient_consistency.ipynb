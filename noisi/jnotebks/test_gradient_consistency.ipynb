{
 "cells": [
  {
   "cell_type": "code",
   "execution_count": 58,
   "metadata": {},
   "outputs": [],
   "source": [
    "# after implementing new envelope misfit function,\n",
    "# would like to check gradient consistency\n",
    "# the testdata/testsrc setup could be used for that."
   ]
  },
  {
   "cell_type": "code",
   "execution_count": 59,
   "metadata": {},
   "outputs": [],
   "source": [
    "# what we need for preparation:\n",
    "# - compute the gradient for the input source\n",
    "# - have a vector of smaller and smaller steps\n",
    "# - have a random update to the model\n",
    "# - compute m0\n",
    "\n",
    "# what we do then for each step in the step vector:\n",
    "# - scale the random update by this step\n",
    "# - compute the model of the input plus the update\n",
    "# - get the misfit of that model output\n",
    "# - get the relative error between this misfit and m0\n",
    "# - record (step,relative error)"
   ]
  },
  {
   "cell_type": "code",
   "execution_count": 60,
   "metadata": {},
   "outputs": [],
   "source": [
    "import os\n",
    "import numpy as np\n",
    "from pandas import read_csv\n",
    "import h5py\n",
    "import matplotlib.pyplot as plt"
   ]
  },
  {
   "cell_type": "code",
   "execution_count": 61,
   "metadata": {},
   "outputs": [
    {
     "data": {
      "text/plain": [
       "0"
      ]
     },
     "execution_count": 61,
     "metadata": {},
     "output_type": "execute_result"
    }
   ],
   "source": [
    "# compute the gradient for the input model\n",
    "os.system('cp -R ../test/testdata/testsrc/wavefield_processed_archived/ \\\n",
    "          ../test/testdata/testsrc/wavefield_processed')\n",
    "os.system('cp ../test/testdata/testsrc/step_0/starting_model_archived.h5 \\\n",
    "          ../test/testdata/testsrc/step_0/starting_model.h5')\n",
    "os.mkdir('../test/testdata/testsrc/step_0/corr')\n",
    "os.mkdir('../test/testdata/testsrc/step_0/adjt')\n",
    "os.mkdir('../test/testdata/testsrc/step_0/kern')\n",
    "os.mkdir('../test/testdata/testsrc/step_0/grad')\n",
    "os.system('cp inputs/measr_config.json ../test/testdata/testsrc/')\n",
    "os.system('cp inputs/source_config.json ../test/testdata/testsrc/')\n",
    "os.system('cp inputs/config.json ../test/testdata/')"
   ]
  },
  {
   "cell_type": "code",
   "execution_count": 62,
   "metadata": {},
   "outputs": [
    {
     "data": {
      "text/plain": [
       "0"
      ]
     },
     "execution_count": 62,
     "metadata": {},
     "output_type": "execute_result"
    }
   ],
   "source": [
    "os.system('noisi correlation ../test/testdata/testsrc 0')\n",
    "### remove output after finishing"
   ]
  },
  {
   "cell_type": "code",
   "execution_count": 64,
   "metadata": {},
   "outputs": [
    {
     "name": "stdout",
     "output_type": "stream",
     "text": [
      "0.473940001636\n"
     ]
    }
   ],
   "source": [
    "os.system('noisi measurement ../test/testdata/testsrc 0')\n",
    "m0 = read_csv('../test/testdata/testsrc/step_0/\\\n",
    "ln_energy_ratio.0.measurement.csv')['l2_norm'][0]\n",
    "print(m0)"
   ]
  },
  {
   "cell_type": "code",
   "execution_count": 65,
   "metadata": {},
   "outputs": [
    {
     "data": {
      "text/plain": [
       "0"
      ]
     },
     "execution_count": 65,
     "metadata": {},
     "output_type": "execute_result"
    }
   ],
   "source": [
    "os.system('noisi kernel ../test/testdata/testsrc 0')"
   ]
  },
  {
   "cell_type": "code",
   "execution_count": 66,
   "metadata": {},
   "outputs": [
    {
     "data": {
      "text/plain": [
       "0"
      ]
     },
     "execution_count": 66,
     "metadata": {},
     "output_type": "execute_result"
    }
   ],
   "source": [
    "os.system('noisi gradient ../test/testdata/testsrc 0')"
   ]
  },
  {
   "cell_type": "code",
   "execution_count": 67,
   "metadata": {},
   "outputs": [],
   "source": [
    "eps = np.logspace(-4,2.5,40)"
   ]
  },
  {
   "cell_type": "code",
   "execution_count": 68,
   "metadata": {},
   "outputs": [],
   "source": [
    "grad = np.load('../test/testdata/testsrc/step_0/grad/grad_all.npy')"
   ]
  },
  {
   "cell_type": "code",
   "execution_count": 69,
   "metadata": {},
   "outputs": [],
   "source": [
    "direction = (np.random.random((grad.shape))-0.5)*5"
   ]
  },
  {
   "cell_type": "code",
   "execution_count": 70,
   "metadata": {},
   "outputs": [
    {
     "name": "stdout",
     "output_type": "stream",
     "text": [
      "[-0.32838284]\n"
     ]
    }
   ],
   "source": [
    "m_grad = np.dot(direction,np.transpose(grad))[0]\n",
    "print(m_grad)"
   ]
  },
  {
   "cell_type": "code",
   "execution_count": 71,
   "metadata": {},
   "outputs": [],
   "source": [
    "def get_misfit_from_direction(dvec):\n",
    "    \n",
    "    os.system('rm ../test/testdata/testsrc/step_0/starting_model.h5')\n",
    "    \n",
    "    os.system('cp ../test/testdata/testsrc/step_0/starting_model_archived.h5 \\\n",
    "          ../test/testdata/testsrc/step_0/starting_model.h5')\n",
    "    f = h5py.File('../test/testdata/testsrc/step_0/starting_model.h5','a')\n",
    "    f['distr_basis'][:] += dvec\n",
    "    f.close()\n",
    "\n",
    "    \n",
    "    os.system('rm ../test/testdata/testsrc/step_0/corr/\\\n",
    "NET.STA1..CHA--NET.STA2..CHA.sac')\n",
    "    \n",
    "    os.system('rm ../test/testdata/testsrc/step_0/\\\n",
    "ln_energy_ratio.0.measurement.csv')\n",
    "    \n",
    "    os.system('noisi correlation ../test/testdata/testsrc 0')\n",
    "    os.system('noisi measurement ../test/testdata/testsrc 0')\n",
    "    msr = read_csv('../test/testdata/testsrc/step_0/\\\n",
    "ln_energy_ratio.0.measurement.csv')\n",
    "    msr = msr['l2_norm'][0]\n",
    "    \n",
    "    return(msr)\n",
    "    \n",
    "    \n",
    "    "
   ]
  },
  {
   "cell_type": "code",
   "execution_count": 73,
   "metadata": {},
   "outputs": [
    {
     "name": "stdout",
     "output_type": "stream",
     "text": [
      "0\n",
      "1\n",
      "2\n",
      "3\n",
      "4\n",
      "5\n",
      "6\n",
      "7\n",
      "8\n",
      "9\n",
      "10\n",
      "11\n",
      "12\n",
      "13\n",
      "14\n",
      "15\n",
      "16\n",
      "17\n",
      "18\n",
      "19\n",
      "20\n",
      "21\n",
      "22\n",
      "23\n",
      "24\n",
      "25\n",
      "26\n",
      "27\n",
      "28\n",
      "29\n",
      "30\n",
      "31\n",
      "32\n",
      "33\n",
      "34\n",
      "35\n",
      "36\n",
      "37\n",
      "38\n",
      "39\n"
     ]
    },
    {
     "data": {
      "image/png": "[encoded data removed]",
      "text/plain": [
       "<Figure size 432x288 with 1 Axes>"
      ]
     },
     "metadata": {},
     "output_type": "display_data"
    }
   ],
   "source": [
    "results = np.zeros(len(eps))\n",
    "\n",
    "for i in range(len(eps)):\n",
    "    print(i)\n",
    "    msr1 = get_misfit_from_direction(eps[i]*direction)\n",
    "    msr2 = get_misfit_from_direction(-eps[i]*direction)\n",
    "    grad_approx = 1./(2.*eps[i])*(msr1-msr2)\n",
    "    results[i] = (m_grad-grad_approx)/m_grad\n",
    "    \n",
    "plt.semilogx(eps,results)\n",
    "plt.show()"
   ]
  },
  {
   "cell_type": "code",
   "execution_count": 53,
   "metadata": {},
   "outputs": [
    {
     "data": {
      "text/plain": [
       "0"
      ]
     },
     "execution_count": 53,
     "metadata": {},
     "output_type": "execute_result"
    }
   ],
   "source": [
    "# removing copied files...\n",
    "os.system('rm -rf ../test/testdata/testsrc/wavefield_processed')\n",
    "os.system('rm ../test/testdata/testsrc/step_0/starting_model.h5')\n",
    "os.system('rm -rf ../test/testdata/testsrc/step_0/corr')\n",
    "os.system('rm -rf ../test/testdata/testsrc/step_0/adjt')\n",
    "os.system('rm -rf ../test/testdata/testsrc/step_0/kern')\n",
    "os.system('rm -rf ../test/testdata/testsrc/step_0/grad')\n",
    "os.system('rm ../test/testdata/testsrc/measr_config.json')\n",
    "os.system('rm ../test/testdata/testsrc/source_config.json')\n",
    "os.system('rm ../test/testdata/config.json')"
   ]
  },
  {
   "cell_type": "code",
   "execution_count": null,
   "metadata": {},
   "outputs": [],
   "source": []
  }
 ],
 "metadata": {
  "kernelspec": {
   "display_name": "Python 3",
   "language": "python",
   "name": "python3"
  },
  "language_info": {
   "codemirror_mode": {
    "name": "ipython",
    "version": 3
   },
   "file_extension": ".py",
   "mimetype": "text/x-python",
   "name": "python",
   "nbconvert_exporter": "python",
   "pygments_lexer": "ipython3",
   "version": "3.6.5"
  }
 },
 "nbformat": 4,
 "nbformat_minor": 2
}
