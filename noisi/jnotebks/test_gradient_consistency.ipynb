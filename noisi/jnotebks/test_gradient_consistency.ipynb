{
 "cells": [
  {
   "cell_type": "code",
   "execution_count": 1,
   "metadata": {},
   "outputs": [],
   "source": [
    "# after implementing new envelope misfit function,\n",
    "# would like to check gradient consistency\n",
    "# the testdata/testsrc setup could be used for that."
   ]
  },
  {
   "cell_type": "code",
   "execution_count": 2,
   "metadata": {},
   "outputs": [],
   "source": [
    "# what we need for preparation:\n",
    "# - compute the gradient for the input source\n",
    "# - have a vector of smaller and smaller steps\n",
    "# - have a random update to the model\n",
    "# - compute m0\n",
    "\n",
    "# what we do then for each step in the step vector:\n",
    "# - scale the random update by this step\n",
    "# - compute the model of the input plus the update\n",
    "# - get the misfit of that model output\n",
    "# - get the relative error between this misfit and m0\n",
    "# - record (step,relative error)"
   ]
  },
  {
   "cell_type": "code",
   "execution_count": 34,
   "metadata": {},
   "outputs": [],
   "source": [
    "import os\n",
    "import numpy as np\n",
    "from pandas import read_csv\n",
    "import h5py\n",
    "import matplotlib.pyplot as plt"
   ]
  },
  {
   "cell_type": "code",
   "execution_count": 35,
   "metadata": {},
   "outputs": [
    {
     "data": {
      "text/plain": [
       "0"
      ]
     },
     "execution_count": 35,
     "metadata": {},
     "output_type": "execute_result"
    }
   ],
   "source": [
    "# compute the gradient for the input model\n",
    "os.system('cp -R ../test/testdata/testsrc/wavefield_processed_archived/ \\\n",
    "          ../test/testdata/testsrc/wavefield_processed')\n",
    "os.system('cp ../test/testdata/testsrc/step_0/starting_model_archived.h5 \\\n",
    "          ../test/testdata/testsrc/step_0/starting_model.h5')\n",
    "os.mkdir('../test/testdata/testsrc/step_0/corr')\n",
    "os.mkdir('../test/testdata/testsrc/step_0/adjt')\n",
    "os.mkdir('../test/testdata/testsrc/step_0/kern')\n",
    "os.mkdir('../test/testdata/testsrc/step_0/grad')\n",
    "os.system('cp inputs/measr_config.json ../test/testdata/testsrc/')\n",
    "os.system('cp inputs/source_config.json ../test/testdata/testsrc/')\n",
    "os.system('cp inputs/config.json ../test/testdata/')"
   ]
  },
  {
   "cell_type": "code",
   "execution_count": 36,
   "metadata": {},
   "outputs": [
    {
     "data": {
      "text/plain": [
       "0"
      ]
     },
     "execution_count": 36,
     "metadata": {},
     "output_type": "execute_result"
    }
   ],
   "source": [
    "os.system('noisi correlation ../test/testdata/testsrc 0')\n",
    "### remove output after finishing"
   ]
  },
  {
   "cell_type": "code",
   "execution_count": 37,
   "metadata": {},
   "outputs": [
    {
     "name": "stdout",
     "output_type": "stream",
     "text": [
      "0.259406780548\n"
     ]
    }
   ],
   "source": [
    "os.system('noisi measurement ../test/testdata/testsrc 0')\n",
    "m0 = read_csv('../test/testdata/testsrc/step_0/\\\n",
    "square_envelope.0.measurement.csv')['l2_norm'][0]\n",
    "print(m0)"
   ]
  },
  {
   "cell_type": "code",
   "execution_count": 38,
   "metadata": {},
   "outputs": [
    {
     "data": {
      "text/plain": [
       "0"
      ]
     },
     "execution_count": 38,
     "metadata": {},
     "output_type": "execute_result"
    }
   ],
   "source": [
    "os.system('noisi kernel ../test/testdata/testsrc 0')"
   ]
  },
  {
   "cell_type": "code",
   "execution_count": 39,
   "metadata": {},
   "outputs": [
    {
     "data": {
      "text/plain": [
       "0"
      ]
     },
     "execution_count": 39,
     "metadata": {},
     "output_type": "execute_result"
    }
   ],
   "source": [
    "os.system('noisi gradient ../test/testdata/testsrc 0')"
   ]
  },
  {
   "cell_type": "code",
   "execution_count": 46,
   "metadata": {},
   "outputs": [],
   "source": [
    "eps = np.arange(-3,3,1.)"
   ]
  },
  {
   "cell_type": "code",
   "execution_count": 47,
   "metadata": {},
   "outputs": [],
   "source": [
    "grad = np.load('../test/testdata/testsrc/step_0/grad/grad_all.npy')"
   ]
  },
  {
   "cell_type": "code",
   "execution_count": 48,
   "metadata": {},
   "outputs": [],
   "source": [
    "direction = (np.random.random((grad.shape))-0.5)"
   ]
  },
  {
   "cell_type": "code",
   "execution_count": 49,
   "metadata": {},
   "outputs": [
    {
     "name": "stdout",
     "output_type": "stream",
     "text": [
      "[-0.00013169]\n"
     ]
    }
   ],
   "source": [
    "m_grad = np.dot(direction,np.transpose(grad))[0]\n",
    "print(m_grad)"
   ]
  },
  {
   "cell_type": "code",
   "execution_count": 50,
   "metadata": {},
   "outputs": [],
   "source": [
    "def get_misfit_from_direction(dvec):\n",
    "    \n",
    "    os.system('rm ../test/testdata/testsrc/step_0/starting_model.h5')\n",
    "    \n",
    "    os.system('cp ../test/testdata/testsrc/step_0/starting_model_archived.h5 \\\n",
    "          ../test/testdata/testsrc/step_0/starting_model.h5')\n",
    "    f = h5py.File('../test/testdata/testsrc/step_0/starting_model.h5','a')\n",
    "    f['distr_basis'][:] += dvec\n",
    "    f.close()\n",
    "\n",
    "    \n",
    "    os.system('rm ../test/testdata/testsrc/step_0/corr/\\\n",
    "NET.STA1..CHA--NET.STA2..CHA.sac')\n",
    "    \n",
    "    os.system('rm ../test/testdata/testsrc/step_0/\\\n",
    "square_envelope.0.measurement.csv')\n",
    "    \n",
    "    os.system('noisi correlation ../test/testdata/testsrc 0')\n",
    "    os.system('noisi measurement ../test/testdata/testsrc 0')\n",
    "    msr = read_csv('../test/testdata/testsrc/step_0/\\\n",
    "square_envelope.0.measurement.csv')\n",
    "    msr = msr['l2_norm'][0]\n",
    "    \n",
    "    return(msr)\n",
    "    \n",
    "    \n",
    "    "
   ]
  },
  {
   "cell_type": "code",
   "execution_count": 51,
   "metadata": {
    "scrolled": true
   },
   "outputs": [
    {
     "name": "stdout",
     "output_type": "stream",
     "text": [
      "0\n",
      "-0.0303052294847\n",
      "229.122967839\n",
      "1\n",
      "-0.0303061650617\n",
      "229.130072149\n",
      "2\n",
      "-0.0303037462432\n",
      "229.111704835\n",
      "3\n",
      "-0.0300354095672\n",
      "227.074088446\n",
      "4\n",
      "-0.00320540021412\n",
      "23.3402284995\n",
      "5\n",
      "2.67987295856\n",
      "20350.6336818\n"
     ]
    },
    {
     "data": {
      "image/png": "[encoded data removed]",
      "text/plain": [
       "<Figure size 432x288 with 1 Axes>"
      ]
     },
     "metadata": {},
     "output_type": "display_data"
    }
   ],
   "source": [
    "results = np.zeros(len(eps))\n",
    "\n",
    "for i in range(len(eps)):\n",
    "    print(i)\n",
    "    val = 10**eps[i]\n",
    "    msr1 = get_misfit_from_direction(val*direction)\n",
    "    msr2 = get_misfit_from_direction(-val*direction)\n",
    "    mf_approx = 1./(2.*val)*(msr1-msr2)\n",
    "    print(mf_approx)\n",
    "    results[i] = np.abs(m_grad-mf_approx)/np.abs(m_grad)\n",
    "    \n",
    "    print(results[i])\n",
    "    \n",
    "plt.semilogy(eps,results)\n",
    "plt.show()"
   ]
  },
  {
   "cell_type": "code",
   "execution_count": 33,
   "metadata": {},
   "outputs": [
    {
     "data": {
      "text/plain": [
       "0"
      ]
     },
     "execution_count": 33,
     "metadata": {},
     "output_type": "execute_result"
    }
   ],
   "source": [
    "# removing copied files...\n",
    "os.system('rm -rf ../test/testdata/testsrc/wavefield_processed')\n",
    "os.system('rm ../test/testdata/testsrc/step_0/starting_model.h5')\n",
    "os.system('rm -rf ../test/testdata/testsrc/step_0/corr')\n",
    "os.system('rm -rf ../test/testdata/testsrc/step_0/adjt')\n",
    "os.system('rm -rf ../test/testdata/testsrc/step_0/kern')\n",
    "os.system('rm -rf ../test/testdata/testsrc/step_0/grad')\n",
    "os.system('rm ../test/testdata/testsrc/measr_config.json')\n",
    "os.system('rm ../test/testdata/testsrc/source_config.json')\n",
    "os.system('rm ../test/testdata/config.json')"
   ]
  },
  {
   "cell_type": "code",
   "execution_count": 53,
   "metadata": {},
   "outputs": [
    {
     "data": {
      "image/png": "[encoded data removed]",
      "text/plain": [
       "<Figure size 432x288 with 1 Axes>"
      ]
     },
     "metadata": {},
     "output_type": "display_data"
    }
   ],
   "source": [
    "plt.plot(eps,results)\n",
    "plt.xlabel('Log(step_width)')\n",
    "plt.ylabel('Relative error')\n",
    "plt.show()"
   ]
  },
  {
   "cell_type": "code",
   "execution_count": 34,
   "metadata": {},
   "outputs": [
    {
     "name": "stdout",
     "output_type": "stream",
     "text": [
      "22.8095077533\n"
     ]
    }
   ],
   "source": [
    "print(msr2)"
   ]
  },
  {
   "cell_type": "code",
   "execution_count": null,
   "metadata": {},
   "outputs": [],
   "source": []
  }
 ],
 "metadata": {
  "kernelspec": {
   "display_name": "Python 3",
   "language": "python",
   "name": "python3"
  },
  "language_info": {
   "codemirror_mode": {
    "name": "ipython",
    "version": 3
   },
   "file_extension": ".py",
   "mimetype": "text/x-python",
   "name": "python",
   "nbconvert_exporter": "python",
   "pygments_lexer": "ipython3",
   "version": "3.6.5"
  }
 },
 "nbformat": 4,
 "nbformat_minor": 2
}
