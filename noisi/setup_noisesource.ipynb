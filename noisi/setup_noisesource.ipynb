{
 "cells": [
  {
   "cell_type": "code",
   "execution_count": 1,
   "metadata": {
    "collapsed": true
   },
   "outputs": [],
   "source": [
    "import numpy as np\n",
    "from obspy.geodetics import gps2dist_azimuth\n",
    "from obspy.signal.invsim import cosine_taper\n",
    "import matplotlib.pyplot as plt\n",
    "import h5py\n",
    "from noisi import WaveField\n",
    "import json\n",
    "from glob import glob\n",
    "import os\n",
    "from scipy.signal.signaltools import _next_regular"
   ]
  },
  {
   "cell_type": "code",
   "execution_count": 2,
   "metadata": {
    "collapsed": true
   },
   "outputs": [],
   "source": [
    "grd  = np.load('../sourcegrid.npy')"
   ]
  },
  {
   "cell_type": "code",
   "execution_count": 4,
   "metadata": {
    "collapsed": false
   },
   "outputs": [
    {
     "name": "stdout",
     "output_type": "stream",
     "text": [
      "*.h5_proc\n",
      "<HDF5 file \"EQ.002..MXZ.h5_proc\" (mode r)>\n",
      "0.4 720 1440\n",
      "0.0 0.19972260749\n",
      "361\n"
     ]
    }
   ],
   "source": [
    "config = json.load(open('../config.json'))\n",
    "source_config = json.load(open('source_config.json'))\n",
    "# Find the sampling rate and the nr. of points in synthetic seismograms\n",
    "synthetics_path = config['wavefield_path']\n",
    "\n",
    "if source_config['preprocess_do']:\n",
    "    ext = '*.h5_proc'\n",
    "else:\n",
    "    ext = '*.h5'\n",
    "    \n",noisi
    "print ext\n",
    "\n",
    "wfs = glob(os.path.join(synthetics_path,ext))\n",
    "\n",
    "with WaveField(wfs[0]) as wf:\n",
    "    df = wf.stats['Fs']\n",
    "    nt = wf.stats['nt']\n",
    "\n",
    "# The number of points for the fft is larger due to zeropadding --> apparent higher frequency sampling\n",
    "n = _next_regular(2*nt-1)\n",
    "print df,nt,n\n",
    "freq = np.fft.rfftfreq(n,d=1./df)\n",
    "print np.min(freq),np.max(freq)\n",
    "taper = cosine_taper(len(freq),0.05)\n",
    "print len(freq)"
   ]
  },
  {
   "cell_type": "code",
   "execution_count": 5,
   "metadata": {
    "collapsed": false
   },
   "outputs": [],
   "source": [
    "def get_distance(grid,location):\n",
    "    \n",
    "    def f(lat,lon,location):\n",
    "        return abs(gps2dist_azimuth(lat,lon,location[0],location[1])[0])\n",
    "    \n",
    "    dist = np.array([f(lat,lon,location) for lat,lon in zip(grid[1],grid[0])])\n",
    "    return dist\n",
    "\n",
    "# Use Basemap to figure out where ocean is\n",
    "def get_ocean_mask():\n",
    "    from mpl_toolkits.basemap import Basemap\n",
    "    m = Basemap(rsphere=6378137,resolution='c',projection='cea',lat_0=0., \\\n",
    "        lon_0=0.,llcrnrlat=-90.,urcrnrlat=90.,llcrnrlon=-180.,urcrnrlon=180.)\n",
    "    (x,y) = m(grd[0],grd[1])\n",
    "    ocean_mask = map(lambda (x,y): not m.is_land(x,y),zip(x,y))\n",
    "    return ocean_mask"
   ]
  },
  {
   "cell_type": "code",
   "execution_count": 6,
   "metadata": {
    "collapsed": false
   },
   "outputs": [],
   "source": [
    "\n",
    "######################\n",
    "# Define the bases!\n",
    "#####################\n",
    "\n",
    "# geography\n",
    "only_ocean = False\n",
    "gaussian_blobs = False\n",
    "params_gaussian_blobs = [{'center':(0.,0.),'sigma_radius_m':0.,'rel_weight':1.}]\n",
    "\n",
    "# spectra\n",
    "params_gaussian_spectra = [{'central_freq':0.005,'sigma_freq':0.01,'weight':1.},\n",
    "                          ]\n",
    "\n",
    "\n",
    "# geography\n",
    "num_bases = 1\n",
    "if gaussian_blobs:\n",
    "    num_bases += len(params_gaussian_blobs)\n",
    "basis1 = np.zeros((num_bases,np.shape(grd)[-1]))\n",
    "\n",
    "# homogeneous layer\n",
    "basis1[0,:] = np.ones(np.shape(grd)[-1]) #* np.array(ocean_mask).astype(int)\n",
    "if only_ocean:\n",
    "    basis1[0,:] *= np.array(get_ocean_mask()).astype(int)\n",
    "# superimposed Gaussian blob(s)\n",
    "\n",
    "if gaussian_blobs:\n",
    "    i = 1\n",
    "    for blob in params_gaussian_blobs:\n",
    "        dist = get_distance(grd,blob['center'])\n",
    "        basis1[i,:] = np.exp(-(dist)**2/(2*blob['sigma_radius_m']**2)) \n",
    "        i+=1\n",
    "\n",
    "\n",
    "# spectra\n",
    "basis2 = np.zeros((len(params_gaussian_spectra),len(freq)))\n",
    "# 'sort of hum gaussian'\n",
    "i = 0\n",
    "for spec in params_gaussian_spectra:\n",
    "    basis2[i,:] = taper*np.exp(-(freq-spec['central_freq'])**2/(2*spec['sigma_freq']**2)) \n",
    "    # This normalization means different integrals..\n",
    "    basis2[i,:] /= np.max(np.abs(basis2[0,:]))\n",
    "\n",
    "# 'sort of microseism gaussian'\n",
    "#basis2[1,:] = taper*np.exp(-(freq-0.05)**2/(2*0.025**2)) \n",
    "#print np.max(np.abs(basis2[1,:]))\n",
    "#basis2[1,:] /= np.max(np.abs(basis2[1,:]))\n",
    "\n"
   ]
  },
  {
   "cell_type": "code",
   "execution_count": 7,
   "metadata": {
    "collapsed": false
   },
   "outputs": [
    {
     "name": "stdout",
     "output_type": "stream",
     "text": [
      "[[ 1.  1.  1. ...,  1.  1.  1.]]\n",
      "[[  0.00000000e+00   3.44796937e-02   1.35772940e-01   2.91955792e-01\n",
      "    4.81036153e-01   6.74422938e-01   8.41715681e-01   9.55962953e-01\n",
      "    9.98423838e-01   1.00000000e+00   9.98500666e-01   9.93939657e-01\n",
      "    9.86358925e-01   9.75827919e-01   9.62442518e-01   9.46323582e-01\n",
      "    9.27615133e-01   9.06482216e-01   8.83108473e-01   8.57693494e-01\n",
      "    8.30449983e-01   8.01600807e-01   7.71375980e-01   7.40009641e-01\n",
      "    7.07737072e-01   6.74791824e-01   6.41402990e-01   6.07792657e-01\n",
      "    5.74173597e-01   5.40747211e-01   5.07701747e-01   4.75210829e-01\n",
      "    4.43432276e-01   4.12507237e-01   3.82559636e-01   3.53695894e-01\n",
      "    3.26004948e-01   2.99558513e-01   2.74411584e-01   2.50603145e-01\n",
      "    2.28157050e-01   2.07083058e-01   1.87377977e-01   1.69026899e-01\n",
      "    1.52004485e-01   1.36276283e-01   1.21800048e-01   1.08527036e-01\n",
      "    9.64032600e-02   8.53706920e-02   7.53683805e-02   6.63334928e-02\n",
      "    5.82022599e-02   5.09108246e-02   4.43959870e-02   3.85958491e-02\n",
      "    3.34503591e-02   2.89017587e-02   2.48949384e-02   2.13777081e-02\n",
      "    1.83009878e-02   1.56189278e-02   1.32889665e-02   1.12718317e-02\n",
      "    9.53149634e-03   8.03509425e-03   6.75280433e-03   5.65770967e-03\n",
      "    4.72563799e-03   3.93498917e-03   3.26655469e-03   2.70333351e-03\n",
      "    2.23034795e-03   1.83446283e-03   1.50421014e-03   1.22962138e-03\n",
      "    1.00206895e-03   8.14117519e-04   6.59386267e-04   5.32422004e-04\n",
      "    4.28583448e-04   3.43936362e-04   2.75159235e-04   2.19458999e-04\n",
      "    1.74496208e-04   1.38319018e-04   1.09305269e-04   8.61119850e-05\n",
      "    6.76315598e-05   5.29539678e-05   4.13343308e-05   3.21652267e-05\n",
      "    2.49531640e-05   1.92986943e-05   1.48796780e-05   1.14372718e-05\n",
      "    8.76424780e-06   6.69530178e-06   5.09904642e-06   3.87142700e-06\n",
      "    2.93032968e-06   2.21118559e-06   1.66340195e-06   1.24747691e-06\n",
      "    9.32676705e-07   6.95173234e-07   5.16557005e-07   3.82654451e-07\n",
      "    2.82591168e-07   2.08052864e-07   1.52704598e-07   1.11736183e-07\n",
      "    8.15077392e-08   5.92743997e-08   4.29733076e-08   3.10594457e-08\n",
      "    2.23795794e-08   1.60758312e-08   1.15121982e-08   8.21876153e-09\n",
      "    5.84948727e-09   4.15042454e-09   2.93582757e-09   2.07029326e-09\n",
      "    1.45544732e-09   1.02005694e-09   7.12714574e-10   4.96443884e-10\n",
      "    3.44737073e-10   2.38654219e-10   1.64707564e-10   1.13323837e-10\n",
      "    7.77306498e-11   5.31528587e-11   3.62346655e-11   2.46255073e-11\n",
      "    1.66843548e-11   1.12693002e-11   7.58835741e-12   5.09403483e-12\n",
      "    3.40909687e-12   2.27446928e-12   1.51280903e-12   1.00311666e-12\n",
      "    6.63104657e-13   4.36994542e-13   2.87100037e-13   1.88041534e-13\n",
      "    1.22782825e-13   7.99253892e-14   5.18674860e-14   3.35559035e-14\n",
      "    2.16424277e-14   1.39157403e-14   8.92010479e-15   5.70028930e-15\n",
      "    3.63150912e-15   2.30643214e-15   1.46035191e-15   9.21802043e-16\n",
      "    5.80070942e-16   3.63904859e-16   2.27592475e-16   1.41902891e-16\n",
      "    8.82039209e-17   5.46572576e-17   3.37653367e-17   2.07949381e-17\n",
      "    1.27675475e-17   7.81484969e-18   4.76866791e-18   2.90092719e-18\n",
      "    1.75929991e-18   1.06366833e-18   6.41114918e-19   3.85237747e-19\n",
      "    2.30773049e-19   1.37817587e-19   8.20516832e-20   4.87005257e-20\n",
      "    2.88166243e-20   1.69987059e-20   9.99659082e-21   5.86072404e-21\n",
      "    3.42542080e-21   1.99590510e-21   1.15938892e-21   6.71400569e-22\n",
      "    3.87612313e-22   2.23088265e-22   1.28002716e-22   7.32191945e-23\n",
      "    4.17536079e-23   2.37370296e-23   1.34530896e-23   7.60117966e-24\n",
      "    4.28157210e-24   2.40430094e-24   1.34597716e-24   7.51190103e-25\n",
      "    4.17950957e-25   2.31827040e-25   1.28193545e-25   7.06694199e-26\n",
      "    3.88382985e-26   2.12790465e-26   1.16227109e-26   6.32886751e-27\n",
      "    3.43564178e-27   1.85931531e-27   1.00313993e-27   5.39551981e-28\n",
      "    2.89313277e-28   1.54655987e-28   8.24192033e-29   4.37878263e-29\n",
      "    2.31921848e-29   1.22459713e-29   6.44626440e-30   3.38287766e-30\n",
      "    1.76981458e-30   9.23065561e-31   4.79955117e-31   2.48789476e-31\n",
      "    1.28566164e-31   6.62345616e-32   3.40177784e-32   1.74176889e-32\n",
      "    8.89075026e-33   4.52428124e-33   2.29521872e-33   1.16081193e-33\n",
      "    5.85279005e-34   2.94189610e-34   1.47419528e-34   7.36454639e-35\n",
      "    3.66775476e-35   1.82103325e-35   9.01361002e-36   4.44777646e-36\n",
      "    2.18801574e-36   1.07305314e-36   5.24632657e-37   2.55712944e-37\n",
      "    1.24254865e-37   6.01918088e-38   2.90686382e-38   1.39950766e-38\n",
      "    6.71721383e-39   3.21415168e-39   1.53322842e-39   7.29139552e-40\n",
      "    3.45682785e-40   1.63383483e-40   7.69842434e-41   3.61625330e-41\n",
      "    1.69347637e-41   7.90610795e-42   3.67967650e-42   1.70733931e-42\n",
      "    7.89756736e-43   3.64191780e-43   1.67428830e-43   7.67350257e-44\n",
      "    3.50606809e-44   1.59701998e-44   7.25209780e-45   3.28307086e-45\n",
      "    1.48169959e-45   6.66658417e-46   2.99026634e-46   1.33714862e-46\n",
      "    5.96091304e-47   2.64916613e-47   1.17373188e-47   5.18432131e-48\n",
      "    2.28285443e-48   1.00213869e-48   4.38571837e-49   1.91344926e-49\n",
      "    8.32255095e-50   3.60877059e-50   1.56000283e-50   6.72287135e-51\n",
      "    2.88833468e-51   1.23709636e-51   5.28229734e-52   2.24856507e-52\n",
      "    9.54226285e-53   4.03701713e-53   1.70268029e-53   7.15927306e-54\n",
      "    3.00101416e-54   1.25409508e-54   5.22463774e-55   2.16992740e-55\n",
      "    8.98457470e-56   3.70862691e-56   1.52613189e-56   6.26086428e-57\n",
      "    2.56058863e-57   1.04401956e-57   4.24366174e-58   1.71963464e-58\n",
      "    6.94696177e-59   2.79780173e-59   1.12331682e-59   4.49625452e-60\n",
      "    1.79416680e-60   7.13736724e-61   2.83058742e-61   1.11912449e-61\n",
      "    4.41106574e-62   1.73329291e-62   6.78990489e-63   2.65166540e-63\n",
      "    1.03237399e-63   4.00699395e-64   1.55047090e-64   5.98097316e-65\n",
      "    2.30008236e-65   8.81816503e-66   3.37036051e-66   1.28421516e-66\n",
      "    4.87823289e-67   1.84735588e-67   6.97432055e-68   2.62492284e-68\n",
      "    9.84905315e-69   3.68413656e-69   1.37385298e-69   5.10749677e-70\n",
      "    1.89295043e-70   6.99412972e-71   2.57627029e-71   9.46046466e-72\n",
      "    3.46335341e-72   1.26399238e-72   4.59891517e-73   1.66812904e-73\n",
      "    6.03208134e-74   2.17454318e-74   7.81505757e-75   2.80001030e-75\n",
      "    1.00011600e-75   3.56126609e-76   1.26421743e-76   4.47406638e-77\n",
      "    1.57850649e-77   5.55205326e-78   1.94681272e-78   6.80546847e-79\n",
      "    2.37167501e-79   7.92617232e-80   2.43595957e-80   6.81269901e-81\n",
      "    1.69608181e-81   3.59309240e-82   5.83239226e-83   5.16986391e-84\n",
      "    0.00000000e+00]]\n"
     ]
    }
   ],
   "source": [
    "print basis1\n",
    "print basis2"
   ]
  },
  {
   "cell_type": "code",
   "execution_count": 8,
   "metadata": {
    "collapsed": false
   },
   "outputs": [
    {
     "name": "stdout",
     "output_type": "stream",
     "text": [
      "[1]\n",
      "[[ 1.]\n",
      " [ 1.]\n",
      " [ 1.]\n",
      " ..., \n",
      " [ 1.]\n",
      " [ 1.]\n",
      " [ 1.]]\n"
     ]
    }
   ],
   "source": [
    "######################\n",
    "# set the weights\n",
    "#####################\n",
    "\n",
    "# geography\n",
    "weights1 = np.array([np.shape(basis1)[0]])\n",
    "if gaussian_blobs:\n",
    "    i = 1\n",
    "    for blob in params_gaussian_blobs:\n",
    "        weigts1[i] = blob['rel_weight']\n",
    "        i+=1\n",
    "print weights1\n",
    "\n",
    "# spectra --- much harder to assign manually, since we need weights for every location. just assigning ones.\n",
    "weights2 = np.ones((np.shape(grd)[-1],np.shape(basis2)[0]))\n",
    "i=0\n",
    "for spec in params_gaussian_spectra:\n",
    "    weights2[:,i] *= spec['weight']\n",
    "print weights2\n"
   ]
  },
  {
   "cell_type": "code",
   "execution_count": null,
   "metadata": {
    "collapsed": true
   },
   "outputs": [],
   "source": []
  },
  {
   "cell_type": "code",
   "execution_count": 9,
   "metadata": {
    "collapsed": true
   },
   "outputs": [],
   "source": [
    "from noisi.util import plot"
   ]
  },
  {
   "cell_type": "code",
   "execution_count": 10,
   "metadata": {
    "collapsed": false
   },
   "outputs": [],
   "source": [
    "#distr = np.dot(weights1,basis1)\n",
    "#plot.plot_grid(grd[0],grd[1],distr)\n",
    "\n",
    "\n",
    "plt.semilogx(freq,np.dot(weights2[0,:],basis2))\n",
    "plt.semilogx(freq,np.dot(weights2[20000],basis2),'--')\n",
    "plt.show()"
   ]
  },
  {
   "cell_type": "code",
   "execution_count": 20,
   "metadata": {
    "collapsed": false
   },
   "outputs": [
    {
     "name": "stdout",
     "output_type": "stream",
     "text": [
      "3646\n"
     ]
    }
   ],
   "source": [
    "# Save to an hdf5 file!\n",
    "print len(basis2[0,:])\n",
    "with h5py.File('sourcemodel.h5','w') as fh:\n",
    "    fh.create_dataset('coordinates',data=grd.astype(np.float32))\n",
    "    fh.create_dataset('frequencies',data=freq.astype(np.float32))\n",
    "    fh.create_dataset('distr_basis',data=basis1.astype(np.float32))\n",
    "    fh.create_dataset('distr_weights',data=weights1.astype(np.float32))\n",
    "    fh.create_dataset('spect_basis',data=basis2.astype(np.float32))\n",
    "    fh.create_dataset('spect_weights',data=weights2.astype(np.float32))\n",
    "    \n",
    "\n",
    "\n"
   ]
  },
  {
   "cell_type": "code",
   "execution_count": null,
   "metadata": {
    "collapsed": true
   },
   "outputs": [],
   "source": []
  }
 ],
 "metadata": {
  "kernelspec": {
   "display_name": "Python 2",
   "language": "python",
   "name": "python2"
  },
  "language_info": {
   "codemirror_mode": {
    "name": "ipython",
    "version": 2
   },
   "file_extension": ".py",
   "mimetype": "text/x-python",
   "name": "python",
   "nbconvert_exporter": "python",
   "pygments_lexer": "ipython2",
   "version": "2.7.11"
  }
 },
 "nbformat": 4,
 "nbformat_minor": 0
}
