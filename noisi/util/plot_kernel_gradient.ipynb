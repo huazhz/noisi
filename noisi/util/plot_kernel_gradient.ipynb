{
 "cells": [
  {
   "cell_type": "markdown",
   "metadata": {},
   "source": [
    "# Plot Kernels and Gradient\n",
    "\n",
    "This Notebook plots all kernels and the gradient. Only one section of Earth can be plotted and the files can be saved. "
   ]
  },
  {
   "cell_type": "code",
   "execution_count": null,
   "metadata": {},
   "outputs": [],
   "source": [
    "import numpy as np\n",
    "from noisi.util import plot\n",
    "import os\n",
    "import glob\n",
    "import matplotlib.pyplot as plt"
   ]
  },
  {
   "cell_type": "code",
   "execution_count": null,
   "metadata": {},
   "outputs": [],
   "source": [
    "# import the data and sourcegrid\n",
    "\n",
    "path_kern = './step_0/kern/'\n",
    "files_kern = os.listdir(path_kern)\n",
    "ext = '*.npy'\n",
    "grd = np.load('../sourcegrid.npy')\n",
    "\n",
    "kern = []\n",
    "\n",
    "path_kern_files = glob.glob(os.path.join(path_kern,ext))\n",
    "\n",
    "for files in path_kern_files:\n",
    "    kern.append(np.load(files))\n",
    "\n",
    "print(np.shape(kern[2][:,0]))\n",
    "print(len(kern))\n",
    "\n",
    "\n",
    "# Get name of source\n",
    "source_name = os.path.basename(os.getcwd())\n",
    "print source_name"
   ]
  },
  {
   "cell_type": "code",
   "execution_count": null,
   "metadata": {},
   "outputs": [],
   "source": [
    "# If plot should be saved set to True\n",
    "save_file = True\n",
    "\n",
    "# If only one section of Earth should be plotted set to True and change lat & lon values\n",
    "plot_section = True\n",
    "\n",
    "# Values for Europe\n",
    "latmin = 20\n",
    "latmax = 70\n",
    "lonmin = -20\n",
    "lonmax = 40"
   ]
  },
  {
   "cell_type": "code",
   "execution_count": null,
   "metadata": {},
   "outputs": [],
   "source": [
    "# plot all kernels\n",
    "\n",
    "for i in range(0,len(kern)):\n",
    "    if plot_section:\n",
    "        plot.plot_grid(grd[0],grd[1],kern[i][:,0],title='Kernel for '+files_kern[i],normalize=True,coastres='l',latmin=latmin,latmax=latmax,lonmin=lonmin,lonmax=lonmax) \n",
    "        if save_file:\n",
    "            plot.plot_grid(grd[0],grd[1],kern[i][:,0],title='Kernel for '+files_kern[i],normalize=True,coastres='l',latmin=latmin,latmax=latmax,lonmin=lonmin,lonmax=lonmax,outfile=files_kern[i]+'_KERN.png')\n",
    "    else:\n",
    "        plot.plot_grid(grd[0],grd[1],kern[i][:,0],title='Kernel for '+files_kern[i],normalize=True,coastres='l')\n",
    "        if save_file:\n",
    "            plot.plot_grid(grd[0],grd[1],kern[i][:,0],title='Kernel for '+files_kern[i],normalize=True,coastres='l',outfile=files_kern[i]+'_KERN.png')\n",
    "\n"
   ]
  },
  {
   "cell_type": "code",
   "execution_count": null,
   "metadata": {},
   "outputs": [],
   "source": [
    "# plot grad after running noisi gradient . 0\n",
    "\n",
    "grad_file = np.load('./step_0/grad/grad_all.npy').T\n",
    "\n",
    "if plot_section:\n",
    "    plot.plot_grid(grd[0],grd[1],grad_file[:,0],normalize=True,coastres='l',title='Gradient for '+source_name,latmin=latmin,latmax=latmax,lonmin=lonmin,lonmax=lonmax) \n",
    "    if save_file:\n",
    "            plot.plot_grid(grd[0],grd[1],grad_file[:,0],normalize=True,coastres='l',title='Gradient for '+source_name,latmin=latmin,latmax=latmax,lonmin=lonmin,lonmax=lonmax,outfile=source_name+'_Gradient.png') \n",
    "else:\n",
    "    plot.plot_grid(grd[0],grd[1],grad_file[:,0],normalize=True,coastres='l',title='Gradient for '+source_name) \n",
    "    if save_file:\n",
    "        plot.plot_grid(grd[0],grd[1],grad_file[:,0],normalize=True,coastres='l',title='Gradient for '+source_name,outfile=source_name+'_Gradient.png') \n",
    "\n",
    "\n"
   ]
  }
 ],
 "metadata": {
  "kernelspec": {
   "display_name": "Python [conda env:Noisi_Py2]",
   "language": "python",
   "name": "conda-env-Noisi_Py2-py"
  },
  "language_info": {
   "codemirror_mode": {
    "name": "ipython",
    "version": 2
   },
   "file_extension": ".py",
   "mimetype": "text/x-python",
   "name": "python",
   "nbconvert_exporter": "python",
   "pygments_lexer": "ipython2",
   "version": "2.7.14"
  }
 },
 "nbformat": 4,
 "nbformat_minor": 2
}
